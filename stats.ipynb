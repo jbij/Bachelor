{
 "cells": [
  {
   "cell_type": "markdown",
   "metadata": {},
   "source": [
    "## Get network stats"
   ]
  },
  {
   "cell_type": "code",
   "execution_count": 38,
   "metadata": {},
   "outputs": [],
   "source": [
    "import pickle\n",
    "import pandas as pd\n",
    "import networkx as nx\n",
    "import pickle\n",
    "import numpy as np\n",
    "import powerlaw"
   ]
  },
  {
   "cell_type": "code",
   "execution_count": 39,
   "metadata": {},
   "outputs": [],
   "source": [
    "def graph_stats(G):\n",
    "    \"\"\"Returns various statistics of a given graph G.\"\"\"\n",
    "    stats = {}\n",
    "    stats['num_nodes'] = G.number_of_nodes()\n",
    "    stats['num_edges'] = G.number_of_edges()\n",
    "    stats['density'] = nx.density(G)\n",
    "    \n",
    "    degrees = [d for n, d in G.degree()]\n",
    "    stats['mean_degree'] = np.mean(degrees)\n",
    "    stats['std_degree'] = np.std(degrees)\n",
    "    \n",
    "    if nx.is_connected(G):\n",
    "        stats['diameter'] = nx.diameter(G)\n",
    "    else:\n",
    "        stats['diameter'] = None  # Graph is not connected\n",
    "    \n",
    "    stats['degree_assortativity'] = nx.degree_assortativity_coefficient(G)\n",
    "    \n",
    "    # Giant Connected Component (GCC)\n",
    "    largest_cc = max(nx.connected_components(G), key=len)\n",
    "    GCC = G.subgraph(largest_cc)\n",
    "    stats['GCC_size'] = len(GCC)\n",
    "    \n",
    "    # Power-law fitting\n",
    "    try:\n",
    "        fit = powerlaw.Fit(degrees)\n",
    "        stats['power_law_alpha'] = fit.alpha  # Power-law exponent\n",
    "        stats['power_law_xmin'] = fit.xmin  # Minimum value where power law applies\n",
    "        stats['ks_test_statistic'] = fit.D  # KS test statistic (lower is better)\n",
    "        \n",
    "        # Compare power law with other distributions\n",
    "        distribution_list = ['lognormal', 'exponential', 'truncated_power_law']\n",
    "        comparison_results = {}\n",
    "        \n",
    "        for dist in distribution_list:\n",
    "            R, p = fit.distribution_compare('power_law', dist)\n",
    "            comparison_results[dist] = (R, p)\n",
    "        \n",
    "        # Find the best alternative distribution (lowest R and p-value)\n",
    "        best_fit = min(comparison_results.items(), key=lambda x: (x[1][0], x[1][1]))\n",
    "        best_dist, (best_R, best_p) = best_fit\n",
    "        \n",
    "        stats['best_powerlaw_comparison'] = f\"power law vs {best_dist}: R = {best_R:.3f}, p = {best_p:.3f}\"\n",
    "    \n",
    "    except Exception as e:\n",
    "        stats['power_law_test_error'] = str(e)\n",
    "    \n",
    "    return stats"
   ]
  },
  {
   "cell_type": "markdown",
   "metadata": {},
   "source": [
    "# Users' liked videos hashtag network"
   ]
  },
  {
   "cell_type": "markdown",
   "metadata": {},
   "source": [
    "Each user in the likes data has their own network of hashtags coocurring in videos they liked. All 22 networks are aggregated, so that the edge weights are summed up."
   ]
  },
  {
   "cell_type": "code",
   "execution_count": 43,
   "metadata": {},
   "outputs": [],
   "source": [
    "with open(\"likes_g_aggregated.pkl\", \"rb\") as f:\n",
    "    likes_agg = pickle.load(f)"
   ]
  },
  {
   "cell_type": "code",
   "execution_count": 44,
   "metadata": {},
   "outputs": [
    {
     "name": "stdout",
     "output_type": "stream",
     "text": [
      "Calculating best minimal value for power law fit\n",
      "xmin progress: 97%\r"
     ]
    },
    {
     "name": "stderr",
     "output_type": "stream",
     "text": [
      "Assuming nested distributions\n"
     ]
    }
   ],
   "source": [
    "likes_agg_statistics = graph_stats(likes_agg)"
   ]
  },
  {
   "cell_type": "code",
   "execution_count": 45,
   "metadata": {},
   "outputs": [
    {
     "name": "stdout",
     "output_type": "stream",
     "text": [
      "num_nodes - 475\n",
      "num_edges - 4617\n",
      "density - 0.0410126582278481\n",
      "mean_degree - 19.44\n",
      "std_degree - 13.167507057346246\n",
      "diameter - None\n",
      "degree_assortativity - 0.28649855388067774\n",
      "GCC_size - 359\n",
      "power_law_alpha - 3.0386850482923404\n",
      "power_law_xmin - 14.0\n",
      "ks_test_statistic - 0.11574775442641533\n",
      "best_powerlaw_comparison - power law vs truncated_power_law: R = -8.673, p = 0.000\n"
     ]
    }
   ],
   "source": [
    "for key, val in likes_agg_statistics.items():\n",
    "    print(key,'-', val)"
   ]
  }
 ],
 "metadata": {
  "kernelspec": {
   "display_name": "base",
   "language": "python",
   "name": "python3"
  },
  "language_info": {
   "codemirror_mode": {
    "name": "ipython",
    "version": 3
   },
   "file_extension": ".py",
   "mimetype": "text/x-python",
   "name": "python",
   "nbconvert_exporter": "python",
   "pygments_lexer": "ipython3",
   "version": "3.11.4"
  }
 },
 "nbformat": 4,
 "nbformat_minor": 2
}
