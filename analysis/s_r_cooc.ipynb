{
 "cells": [
  {
   "cell_type": "code",
   "execution_count": 1,
   "id": "41ca7c5b",
   "metadata": {},
   "outputs": [],
   "source": [
    "from sentence_transformers import SentenceTransformer\n",
    "import networkx as nx\n",
    "import numpy as np\n",
    "from sklearn.metrics.pairwise import cosine_similarity\n",
    "import community as community_louvain  # Louvain algorithm\n",
    "import matplotlib.pyplot as plt\n",
    "import community as community_louvain\n",
    "from collections import defaultdict\n",
    "import pandas as pd"
   ]
  },
  {
   "cell_type": "code",
   "execution_count": 2,
   "id": "2f22a5ef",
   "metadata": {},
   "outputs": [],
   "source": [
    "#From Hugging Face\n",
    "# Load pre-trained model\n",
    "model = SentenceTransformer('all-MiniLM-L6-v2')  # lightweight and powerful"
   ]
  },
  {
   "cell_type": "code",
   "execution_count": 3,
   "id": "7254a001",
   "metadata": {},
   "outputs": [],
   "source": [
    "# Load the network\n",
    "import pickle\n",
    "\n",
    "# Load the pickle file\n",
    "with open('../ready_networks/cooc_filtered.pkl', 'rb') as f:\n",
    "    G = pickle.load(f)\n",
    "\n",
    "# Get the hashtags (nodes)\n",
    "hashtags = list(G.nodes)"
   ]
  },
  {
   "cell_type": "code",
   "execution_count": 5,
   "id": "59552c27",
   "metadata": {},
   "outputs": [
    {
     "name": "stdout",
     "output_type": "stream",
     "text": [
      "(60609, 384)\n"
     ]
    }
   ],
   "source": [
    "# Embed hashtags\n",
    "embeddings = model.encode(hashtags)\n",
    "print(embeddings.shape) #480 hashtags / each is represented by a 384-dimension vector"
   ]
  },
  {
   "cell_type": "code",
   "execution_count": null,
   "id": "b851d8eb",
   "metadata": {},
   "outputs": [
    {
     "name": "stdout",
     "output_type": "stream",
     "text": [
      "tensor([[1.0000, 0.4957, 0.1060,  ..., 0.1704, 0.2799, 0.1584],\n",
      "        [0.4957, 1.0000, 0.0737,  ..., 0.2421, 0.1139, 0.1472],\n",
      "        [0.1060, 0.0737, 1.0000,  ..., 0.3066, 0.3126, 0.2193],\n",
      "        ...,\n",
      "        [0.1704, 0.2421, 0.3066,  ..., 1.0000, 0.2415, 0.2199],\n",
      "        [0.2799, 0.1139, 0.3126,  ..., 0.2415, 1.0000, 0.1440],\n",
      "        [0.1584, 0.1472, 0.2193,  ..., 0.2199, 0.1440, 1.0000]])\n"
     ]
    },
    {
     "ename": "",
     "evalue": "",
     "output_type": "error",
     "traceback": [
      "\u001b[1;31mThe Kernel crashed while executing code in the current cell or a previous cell. \n",
      "\u001b[1;31mPlease review the code in the cell(s) to identify a possible cause of the failure. \n",
      "\u001b[1;31mClick <a href='https://aka.ms/vscodeJupyterKernelCrash'>here</a> for more info. \n",
      "\u001b[1;31mView Jupyter <a href='command:jupyter.viewOutput'>log</a> for further details."
     ]
    }
   ],
   "source": [
    "# Calculate the embedding similarities\n",
    "similarities = model.similarity(embeddings, embeddings)\n",
    "print(similarities)"
   ]
  },
  {
   "cell_type": "code",
   "execution_count": null,
   "id": "e6433e9e",
   "metadata": {},
   "outputs": [],
   "source": [
    "#cosine similarity matrix\n",
    "similarity_matrix = cosine_similarity(embeddings)"
   ]
  },
  {
   "cell_type": "code",
   "execution_count": null,
   "id": "2d62ec68",
   "metadata": {},
   "outputs": [],
   "source": [
    "#have to plot a histogram to see the curt-off\n",
    "import matplotlib.pyplot as plt\n",
    "\n",
    "# similarities is your 480 x 480 cosine similarity matrix (flattened)\n",
    "plt.hist(similarities.flatten(), bins=100)\n",
    "plt.title('Distribution of Cosine Similarities')\n",
    "plt.show()"
   ]
  },
  {
   "cell_type": "code",
   "execution_count": null,
   "id": "620f30fa",
   "metadata": {},
   "outputs": [],
   "source": [
    "# Graph\n",
    "G = nx.Graph()\n",
    "for i in range(len(hashtags)):\n",
    "    G.add_node(hashtags[i])\n",
    "    for j in range(i+1, len(hashtags)):\n",
    "        if similarity_matrix[i, j] > 0.2:  # Threshold to create an edge - look at histogram\n",
    "            G.add_edge(hashtags[i], hashtags[j], weight=similarity_matrix[i, j])"
   ]
  },
  {
   "cell_type": "code",
   "execution_count": null,
   "id": "0fae65d8",
   "metadata": {},
   "outputs": [],
   "source": [
    "# Cluster with Louvain\n",
    "partition = community_louvain.best_partition(G, weight='weight')"
   ]
  },
  {
   "cell_type": "code",
   "execution_count": null,
   "id": "2383b51d",
   "metadata": {},
   "outputs": [],
   "source": [
    "# Save graph to a pickle file\n",
    "with open('S_R_cooc.pkl', 'wb') as f:\n",
    "    pickle.dump(G, f)"
   ]
  }
 ],
 "metadata": {
  "kernelspec": {
   "display_name": "bachelor",
   "language": "python",
   "name": "python3"
  },
  "language_info": {
   "codemirror_mode": {
    "name": "ipython",
    "version": 3
   },
   "file_extension": ".py",
   "mimetype": "text/x-python",
   "name": "python",
   "nbconvert_exporter": "python",
   "pygments_lexer": "ipython3",
   "version": "3.11.11"
  }
 },
 "nbformat": 4,
 "nbformat_minor": 5
}
