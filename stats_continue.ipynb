{
 "cells": [
  {
   "cell_type": "code",
   "execution_count": 11,
   "metadata": {},
   "outputs": [],
   "source": [
    "import pickle\n",
    "import pandas as pd\n",
    "import networkx as nx\n",
    "import pickle\n",
    "import numpy as np\n",
    "import powerlaw\n",
    "import matplotlib.pyplot as plt\n",
    "import community as community_louvain\n",
    "from collections import defaultdict, Counter\n",
    "from infomap import Infomap"
   ]
  },
  {
   "cell_type": "code",
   "execution_count": 24,
   "metadata": {},
   "outputs": [],
   "source": [
    "with open('ready_networks/follow_filtered.pkl', 'rb') as f:\n",
    "    follows = pickle.load(f)\n",
    "with open('ready_networks/cooc_filtered.pkl', 'rb') as f:\n",
    "    hc = pickle.load(f)\n",
    "with open('ready_networks/ds_network.pkl', 'rb') as f:\n",
    "    ds = pickle.load(f)\n",
    "with open('ready_networks/likes_network.pkl', 'rb') as f:\n",
    "    likes = pickle.load(f)"
   ]
  },
  {
   "cell_type": "markdown",
   "metadata": {},
   "source": [
    "# Networks' communities"
   ]
  },
  {
   "cell_type": "markdown",
   "metadata": {},
   "source": [
    "### Likes"
   ]
  },
  {
   "cell_type": "code",
   "execution_count": 5,
   "metadata": {},
   "outputs": [],
   "source": [
    "partition = community_louvain.best_partition(likes)\n",
    "\n",
    "# Now `partition` is a dict: {node: community_id}\n",
    "# Add it as node attribute\n",
    "nx.set_node_attributes(likes, partition, 'community')"
   ]
  },
  {
   "cell_type": "code",
   "execution_count": 6,
   "metadata": {},
   "outputs": [
    {
     "name": "stdout",
     "output_type": "stream",
     "text": [
      "Number of communities: 12\n",
      "Community sizes: Counter({1: 78, 8: 61, 2: 52, 7: 52, 4: 48, 6: 47, 3: 47, 5: 45, 10: 31, 11: 19, 0: 12, 9: 4})\n"
     ]
    }
   ],
   "source": [
    "comm_sizes = Counter(partition.values())\n",
    "print(f\"Number of communities: {len(comm_sizes)}\")\n",
    "print(\"Community sizes:\", comm_sizes)"
   ]
  },
  {
   "cell_type": "code",
   "execution_count": null,
   "metadata": {},
   "outputs": [
    {
     "name": "stdout",
     "output_type": "stream",
     "text": [
      "\n",
      "Community 1 (size=78):\n",
      "4thefoodie, QuickRecipes, beverage, beveragebreak, beverageideas, beverages, break, breaks, coffee, coffees, cottagecheese, cottagecheeserecipes, dance, dancing, dancingfruit, drink, drinkidea, drinkideas, drinks, drinkspindrift, drinksupercoffee, easydressing, easydressingrecipe, easylunch, easylunches, easylunchideas, fastdressing, flavoryourwater, flavoryourworld, ice, icecoffee, icecoffees, icedcoffee, icedcoffees, icedtea, lemon, lemonade, lemonades, lemonade🍋, lemongrass, lemonicetea, mocha, mochacoffee, mochas, moment, moments, onlineshop, onlineshopping, reflecting, refresh\n",
      "\n",
      "Community 8 (size=61):\n",
      "activism, activist, actonclimate, advocacy, callcongress, carbonpricing, carbontax, cleanenergy, climate, climateaction, climatechange, climatecrisis, ecotok, grassrootsclimate, michaelscott, michaelscottquotes, phoneanxiety, phoneanxietyisreal, priceoncarbon, selenagomez, shouldimakesomedrama, theoffice, volunteer, volunteering, waterwithalemonslice, 5nightsatfreddys, baseball, climatejournalism, climatepolicy, cyclonefreddy, dailynews, envir, environmental, environmentalissuespodcast, environmentaljustice, environmentalnews, environmentalnews2023, environmentalnewstoday, fivenightsatfreddy, journalism, journalists, podcast, sweatypenguinpodcast, naturaldisaster, plastic, savethepolarbears, savetherhinos, savethesalo, savethevaqutia, savetheworld\n",
      "\n",
      "Community 2 (size=52):\n",
      "auntwave, beadedjewelry, beadednecklace, designer, dopaminedecor, handmadecraft, handmadejewelry, jewerly, maximal, maximalism, maximalist, maximalistdecor, maximalistdesign, maximalisthome, maximalistinterior, maximalistinteriors, maximaliststyle, maximalist✨, midcentury, midcenturymodern, moodymaximalism, retroglass, retroglassware, thrift, thriftdecor, thrifted, thrifting, thrifttok, trendyjewelry2023, trendyjewelrytiktok, vintage, vintageaesthetic, vintageaestheticvibes, vintagedecor, vintagedecorating, vintagefind, vintagefinds, vintageglass, vintageglasscollection, vintageglasscollector, vintageglassware, vintageglasswares, vintagehome, vintagelook, vintagestyle, vintagethrift, vintagetok, vintagevibe, vintagevibes, whimsical\n",
      "\n",
      "Community 7 (size=52):\n",
      "news, architecture, design, eco, ecodesign, ecotravel, gogreen, goinggreen, greenarchitecture, lunchboxes?, makeuphacks, nottingham, plasticfree, reusable, stainlesssteel, stitch, sustainability, sustainablearchitecture, sustainabledesign, sustainabletravel, zerowaste, analysis, balita, calamities, construction, disaster, earthquake, earthquakeengineering, earthquakescience, engineering, howto, india, philippines, science, technology, trending, tseries, turkey, turkeyearthquake2023, weather, compost, ecohome, ecoswaps, environmentalist, foodwaste, foodwasteprevention, foodwastesolution, foodwastetip, lowwaste, minimalism\n",
      "\n",
      "Community 4 (size=48):\n",
      "foryou, cooking, chicken, chickenrecipesfordinner, chinafood, delicious, dinneridea, easyrecipe, foodie, foodoftiktok, fypシ, homemade, recipes, tiktokfoods, allies, ally, allyship, antiracism, antiracismeducation, antiracismtiktok, antiracismuk, antiracist, antiracistallies, antiracistally, black, blackbritish, blackcreator, blackfeminist, decolonisation, diversity, diversityequityinclusion, education, equality, equity, foryoupage, humanrights, intersectionalequity, livedexperience, nojusticenopeace, privilege, racialequity, racialjustice, socialjusticeeducation, fypシ゚viral, severeweather, stayprepared❇️, todaysthreat, tornaodes\n"
     ]
    }
   ],
   "source": [
    "from collections import defaultdict\n",
    "\n",
    "comm_hashtags = defaultdict(list)\n",
    "for node, comm_id in partition.items():\n",
    "    comm_hashtags[comm_id].append(node)\n",
    "\n",
    "# Optional: sort communities by size\n",
    "sorted_comms = sorted(comm_hashtags.items(), key=lambda x: len(x[1]), reverse=True)\n",
    "\n",
    "# Print top hashtags in top 3 communities\n",
    "for comm_id, members in sorted_comms[:10]:\n",
    "    print(f\"\\nCommunity {comm_id} (size={len(members)}):\")\n",
    "    print(\", \".join(members[:50]))  # show top 10\n"
   ]
  },
  {
   "cell_type": "markdown",
   "metadata": {},
   "source": [
    "### Hashtag coocurrence"
   ]
  },
  {
   "cell_type": "code",
   "execution_count": 25,
   "metadata": {},
   "outputs": [],
   "source": [
    "partition = community_louvain.best_partition(hc)\n",
    "\n",
    "# Now `partition` is a dict: {node: community_id}\n",
    "# Add it as node attribute\n",
    "nx.set_node_attributes(hc, partition, 'community')"
   ]
  },
  {
   "cell_type": "code",
   "execution_count": 26,
   "metadata": {},
   "outputs": [
    {
     "name": "stdout",
     "output_type": "stream",
     "text": [
      "Number of communities: 506\n",
      "Community sizes: Counter({10: 5997, 5: 3633, 6: 3202, 1: 3015, 0: 2568, 13: 2416, 19: 1767, 16: 1593, 7: 1565, 2: 1395, 21: 1105, 23: 990, 8: 897, 11: 871, 15: 801, 9: 782, 3: 779, 14: 642, 24: 565, 20: 529, 22: 463, 12: 389, 26: 340, 32: 302, 17: 300, 18: 293, 34: 267, 25: 197, 29: 162, 67: 78, 75: 76, 35: 70, 43: 64, 33: 42, 55: 40, 97: 30, 77: 27, 175: 23, 69: 21, 54: 20, 141: 20, 78: 17, 343: 17, 83: 13, 143: 12, 38: 11, 79: 11, 250: 11, 80: 10, 134: 10, 66: 9, 108: 9, 173: 9, 37: 8, 87: 8, 102: 8, 114: 8, 156: 8, 227: 8, 292: 8, 348: 8, 103: 7, 183: 7, 192: 7, 333: 7, 28: 6, 73: 6, 109: 6, 137: 6, 147: 6, 204: 6, 221: 6, 222: 6, 257: 6, 375: 6, 30: 5, 36: 5, 48: 5, 93: 5, 123: 5, 131: 5, 188: 5, 195: 5, 217: 5, 281: 5, 289: 5, 301: 5, 304: 5, 398: 5, 52: 4, 53: 4, 91: 4, 92: 4, 113: 4, 132: 4, 159: 4, 164: 4, 179: 4, 197: 4, 199: 4, 215: 4, 246: 4, 256: 4, 263: 4, 270: 4, 273: 4, 286: 4, 296: 4, 300: 4, 305: 4, 328: 4, 347: 4, 349: 4, 356: 4, 358: 4, 384: 4, 438: 4, 39: 3, 44: 3, 45: 3, 50: 3, 51: 3, 56: 3, 57: 3, 59: 3, 60: 3, 61: 3, 70: 3, 71: 3, 76: 3, 85: 3, 89: 3, 94: 3, 115: 3, 117: 3, 118: 3, 122: 3, 124: 3, 127: 3, 128: 3, 129: 3, 138: 3, 139: 3, 140: 3, 146: 3, 150: 3, 157: 3, 158: 3, 169: 3, 172: 3, 180: 3, 182: 3, 184: 3, 186: 3, 198: 3, 201: 3, 205: 3, 207: 3, 212: 3, 218: 3, 220: 3, 226: 3, 230: 3, 231: 3, 244: 3, 255: 3, 266: 3, 268: 3, 269: 3, 278: 3, 284: 3, 294: 3, 310: 3, 320: 3, 324: 3, 330: 3, 334: 3, 338: 3, 342: 3, 352: 3, 353: 3, 359: 3, 364: 3, 373: 3, 378: 3, 381: 3, 383: 3, 394: 3, 404: 3, 405: 3, 411: 3, 419: 3, 455: 3, 459: 3, 497: 3, 4: 2, 31: 2, 41: 2, 42: 2, 46: 2, 47: 2, 49: 2, 58: 2, 62: 2, 63: 2, 64: 2, 68: 2, 72: 2, 74: 2, 81: 2, 82: 2, 84: 2, 86: 2, 88: 2, 90: 2, 95: 2, 96: 2, 98: 2, 99: 2, 100: 2, 101: 2, 104: 2, 105: 2, 106: 2, 107: 2, 110: 2, 111: 2, 112: 2, 116: 2, 119: 2, 120: 2, 121: 2, 125: 2, 126: 2, 130: 2, 133: 2, 135: 2, 136: 2, 142: 2, 144: 2, 145: 2, 148: 2, 149: 2, 151: 2, 152: 2, 153: 2, 154: 2, 155: 2, 160: 2, 161: 2, 162: 2, 163: 2, 165: 2, 166: 2, 167: 2, 168: 2, 170: 2, 171: 2, 174: 2, 176: 2, 177: 2, 178: 2, 181: 2, 185: 2, 187: 2, 189: 2, 190: 2, 191: 2, 193: 2, 194: 2, 196: 2, 200: 2, 202: 2, 203: 2, 206: 2, 208: 2, 209: 2, 210: 2, 211: 2, 213: 2, 214: 2, 216: 2, 219: 2, 223: 2, 224: 2, 225: 2, 228: 2, 229: 2, 232: 2, 233: 2, 234: 2, 235: 2, 236: 2, 237: 2, 238: 2, 239: 2, 240: 2, 241: 2, 242: 2, 243: 2, 245: 2, 247: 2, 248: 2, 249: 2, 251: 2, 252: 2, 253: 2, 254: 2, 258: 2, 259: 2, 260: 2, 261: 2, 262: 2, 264: 2, 265: 2, 267: 2, 271: 2, 272: 2, 274: 2, 275: 2, 276: 2, 277: 2, 279: 2, 280: 2, 282: 2, 283: 2, 285: 2, 287: 2, 288: 2, 290: 2, 291: 2, 293: 2, 295: 2, 297: 2, 298: 2, 299: 2, 302: 2, 303: 2, 306: 2, 307: 2, 308: 2, 309: 2, 311: 2, 312: 2, 313: 2, 314: 2, 315: 2, 316: 2, 317: 2, 318: 2, 319: 2, 321: 2, 322: 2, 323: 2, 325: 2, 326: 2, 327: 2, 329: 2, 331: 2, 332: 2, 335: 2, 336: 2, 337: 2, 339: 2, 340: 2, 341: 2, 344: 2, 345: 2, 346: 2, 350: 2, 351: 2, 354: 2, 355: 2, 357: 2, 360: 2, 361: 2, 362: 2, 363: 2, 365: 2, 366: 2, 367: 2, 368: 2, 369: 2, 370: 2, 371: 2, 372: 2, 374: 2, 376: 2, 377: 2, 379: 2, 380: 2, 382: 2, 385: 2, 386: 2, 387: 2, 388: 2, 389: 2, 390: 2, 391: 2, 392: 2, 393: 2, 395: 2, 396: 2, 397: 2, 399: 2, 400: 2, 401: 2, 402: 2, 403: 2, 406: 2, 407: 2, 408: 2, 409: 2, 410: 2, 412: 2, 413: 2, 414: 2, 415: 2, 416: 2, 417: 2, 418: 2, 420: 2, 421: 2, 422: 2, 423: 2, 424: 2, 425: 2, 426: 2, 427: 2, 428: 2, 429: 2, 430: 2, 431: 2, 432: 2, 433: 2, 434: 2, 435: 2, 436: 2, 437: 2, 439: 2, 440: 2, 441: 2, 442: 2, 443: 2, 444: 2, 445: 2, 446: 2, 447: 2, 448: 2, 449: 2, 450: 2, 451: 2, 452: 2, 453: 2, 454: 2, 456: 2, 457: 2, 458: 2, 460: 2, 461: 2, 462: 2, 463: 2, 464: 2, 465: 2, 466: 2, 467: 2, 468: 2, 469: 2, 470: 2, 471: 2, 472: 2, 473: 2, 474: 2, 475: 2, 476: 2, 477: 2, 478: 2, 479: 2, 480: 2, 481: 2, 482: 2, 483: 2, 484: 2, 485: 2, 486: 2, 487: 2, 488: 2, 489: 2, 490: 2, 491: 2, 492: 2, 493: 2, 494: 2, 495: 2, 496: 2, 498: 2, 499: 2, 500: 2, 501: 2, 502: 2, 503: 2, 504: 2, 505: 2, 40: 2, 65: 2, 27: 2})\n"
     ]
    }
   ],
   "source": [
    "comm_sizes = Counter(partition.values())\n",
    "print(f\"Number of communities: {len(comm_sizes)}\")\n",
    "print(\"Community sizes:\", comm_sizes)"
   ]
  },
  {
   "cell_type": "code",
   "execution_count": 27,
   "metadata": {},
   "outputs": [
    {
     "name": "stdout",
     "output_type": "stream",
     "text": [
      "\n",
      "Community 10 (size=5997):\n",
      "utah, art, style, fashionillustrator, fashionillustration, fashiondesign, haul, thrift, thrifttok, smallbusiness, secondhand, thrifting, fashiontiktok, thrifted, grwm, diy, iamtorisimmons, sewing, torisimmonsofficial, skills, beforeandafter, sew, sustainablefashion, realestateagent, sunnies, sunglasses, consciousliving, ditchsingleuse, neutralhomedecor, unpapertowels, homeandsoul, furniture, ethical, homeandsouldubai, mompreneur, dubailiving, dubaismallbusiness, greenliving, decor, madeinoregon, worldnewstonight, zerowaste, reducereuse, boho, lowwaste, thinkreusable, madeinamerica, gogreen, dubaiinteriors, zerowastekitchen\n",
      "\n",
      "Community 5 (size=3633):\n",
      "cookingwithlove, foodtiktok, cookingvideo, cookingwithcosta, recipevideo, costaskitchen, foodchallenge, foodie, recipeoftheday, cooking, food, costa, recipe, foodlover, foodies, foodiesofinstagram, yummygoodness, odlysatisfying, cute, fun, picoftheday, comedyclub, producer, popular, foodporn, photooftheday, sports, beach, instagood, photo, instagram, review, healthy, recipes, lemon, fashiondesigner, trendingnow, true, summer, homemade, yummy, drake, xyzbcafyp, meow, lifeontiktok, howdoigetonforyou, abcyxz, fypツ, noonecanstopme, eat\n",
      "\n",
      "Community 6 (size=3202):\n",
      "vote2022, vote, votetiktok, fyp, democrat, liberal, roevwade, spanish, southern, government, america, comics, shaggybaba2, dorm, poorpeoplescampaign, americanhistory, voteblue, equality, truecrimetiktok, fyb, abcnews, solidarity, progressivechrist, teachers, koreantiktokk, cbsnews, fybpage, truecrimecommunity, loveofallpeople, blackwomenoftiktok, latinostiktokb, blackhistory, newsattiktok, crime, europetiktok, usatoday, modelminority, africantiktoke, fybシ, usa_tiktok, genz, blackwomenforwardtrain, godlywomen, jesuschrist, nbcnews, interracial, asianamerican, progressiveclergy, repairerofthebreach, fybシviral\n",
      "\n",
      "Community 1 (size=3015):\n",
      "life, fypシ゚viral, asmr, goviral, 4up, fypage, fypシ, storytime, humor, bollywood, usa, s, uk, travel, movie, happy, like, comedy, netflix, foryourpage, fy, lmao, jokes, stitch, meme, racism, night, edit, viralvideo, funnymemes, horror, sunset, anime, entertainment, water, trend, viraltiktok, funny, beautiful, laugh, disney, show, lgbt, india, work, capcut, duet, muslimtiktok, illustration, dancetrend\n",
      "\n",
      "Community 0 (size=2568):\n",
      "christianliving, blessed, bibleverses, truth, amen, godsword, christianquotes, lord, worship, goodnews, verseoftheday, wordofgod, biblejournaling, peace, grace, jesusisking, christians, praise, pray, jesussaves, salvation, believe, godislove, jesusislord, jesuslovesyou, holybible, trustgod, inspiration, creator, health, god, heart, community, positivity, love, gooddeeds, socialcommitment, meetthegoodones, goodbringsgood, content, contentcreator, massagetherapy, viralllllll, therapytiktok, therapy, healing, support, stressrelief, calming, calmdown\n",
      "\n",
      "Community 13 (size=2416):\n",
      "losangeles, beverlyhills, california, africa, bartender, bartok, drink, alcohol, drinktok, homebar, cocktailbar, cocktails, cocktailnight, mixeddrink, drinks, bartending, bartendingtiktok, cocktail, drinkrecipe, homebartender, cocktailtok, mixology, gin, bar, meteorologist, womenownedbusiness, oceanside, glaciernationalpark, montana, cricket, ukraine, ufo, xuhuongtiktok, washington, texas, storm, shoes, nativetiktok, brasil, thursdayvibes, indigenous, burbank, navajo, thursdaythoughts, nativeamericantiktok, navajotiktok, realestatetiktok, lightningstrike, thunderstorm, lightningbolt\n",
      "\n",
      "Community 19 (size=1767):\n",
      "farmer, pnw, homecomposting, composting, gardenspace, indoorplants, backyardgardening, homegrown, containergardening, organicgardening, ediblehouseplants, instaplants, plantlifestyle, gardening, plantsmakepeoplehappy, gardenlife, gardentok, gardener, iloveplants, plantsarefriends, planttok, houseplants, garden, indoorgarden, mama, horticulture, botany, plants, growyourown, gardendesign, mercifulfamilyfarmsonyoutube, tiawow, brothermerciful, mercifulfamilyfarms, mercimerc, putgodfirst, mercifulconfucius, enylg, joyfulgoatrentals, goatfarm, goatgrazing, goatstagram, goatsofig, goatrentals, farmlife, goats, goatlife, goat, goatsofinstagram, farmliving\n",
      "\n",
      "Community 16 (size=1593):\n",
      "ocean, oceanlife, malta, beachvibes, maltatiktok, shake, bird, turkiye, earthquake, horse, discover, engineering, sharkawareness, sharkdiving, panamacitybeach, panamacitybeachflorida, zooday, cuteanimalsoftiktok, cuteanimal, zoo, cuteanimals, pcb, zooworld, oceanlove, underwater, protecttheocean, sunnyislesbeachflorida, oceanlover, savetheocean, underwaterphotography, oceans, coralreef, whale, marinebiology, marinelife, sealife, underwaterworld, scubadiving, birdwatching, sunrise, oceanconservation, skunk, ellie, exoticpets, lepew, deepblue, coastalliving, coastal, charlestonsc, charleston\n",
      "\n",
      "Community 7 (size=1565):\n",
      "fyoupage, fds, 4upage, tiktokfanpage, 4youpage, fürdich, fyoupagetiktok, cleansink, fdseite, fanpagetiktok, fyou, foryou, 4u, 4you, pageforyou, world, foryoupage, china, trending, berlin, subzero, scorpion, mortalkombat, mortalkombat11, mk11, forupage, foruyou, trends, musicvideo, yt, foru, treanding, 4yp, grow, letsgo, graduated, graduation, newstiktok, porirua, barbie, germany, baroque, bach, johann, breakingnews, eu, europe, dontdoit, massincarceration, fairfight\n",
      "\n",
      "Community 2 (size=1395):\n",
      "motivation, motiongraphics, animation, motiondesign, youtube, viral, tiktok, momsoftiktok, fashion, explorepage, mexico, workout, series, years, memes, new, lifestyle, smile, explore, artist, photography, action, follow, 2023, video, media, filmtok, ig, lol, mentalhealth, bhfyp, soccer, music, football, model, edits, fitness, drama, justforfun, basketball, funnyvideos, gym, family, tv, hollywood, comment, learnontiktok, repost, miami, tiktoktrend\n"
     ]
    }
   ],
   "source": [
    "from collections import defaultdict\n",
    "\n",
    "comm_hashtags = defaultdict(list)\n",
    "for node, comm_id in partition.items():\n",
    "    comm_hashtags[comm_id].append(node)\n",
    "\n",
    "# Optional: sort communities by size\n",
    "sorted_comms = sorted(comm_hashtags.items(), key=lambda x: len(x[1]), reverse=True)\n",
    "\n",
    "# Print top hashtags in top 3 communities\n",
    "for comm_id, members in sorted_comms[:10]:\n",
    "    print(f\"\\nCommunity {comm_id} (size={len(members)}):\")\n",
    "    print(\", \".join(members[:50]))  # show top 10\n"
   ]
  },
  {
   "cell_type": "markdown",
   "metadata": {},
   "source": [
    "### Duet/Stitch"
   ]
  },
  {
   "cell_type": "code",
   "execution_count": 13,
   "metadata": {},
   "outputs": [],
   "source": [
    "# Original graph: directed graph like 'ds' or 'follows'\n",
    "nodes = list(ds.nodes())  # or follows.nodes()\n",
    "node_to_id = {node: i for i, node in enumerate(nodes)}\n",
    "id_to_node = {i: node for node, i in node_to_id.items()}\n"
   ]
  },
  {
   "cell_type": "code",
   "execution_count": 14,
   "metadata": {},
   "outputs": [
    {
     "name": "stdout",
     "output_type": "stream",
     "text": [
      "=======================================================\n",
      "  Infomap v2.8.0 starts at 2025-04-18 12:09:34\n",
      "  -> Input network: \n",
      "  -> No file output!\n",
      "=======================================================\n",
      "  -> Ordinary network input, using the Map Equation for first order network flows\n",
      "Calculating global network flow using flow model 'undirected'... \n",
      "  -> Using undirected links.\n",
      "  => Sum node flow: 1, sum link flow: 1\n",
      "Build internal network with 4209 nodes and 55093 links...\n",
      "  -> One-level codelength: 11.0248162\n",
      "\n",
      "================================================\n",
      "Trial 1/1 starting at 2025-04-18 12:09:34\n",
      "================================================\n",
      "Two-level compression: 16% 1.7% \n",
      "Partitioned to codelength 1.69143344 + 7.44151616 = 9.132949608 in 94 modules.\n",
      "Super-level compression: to codelength 9.132949608 in 94 top modules.\n",
      "\n",
      "Recursive sub-structure compression: 0.015989911% 0% . Found 3 levels with codelength 9.131489258\n",
      "\n",
      "=> Trial 1/1 finished in 0.056141542s with codelength 9.13148926\n",
      "\n",
      "\n",
      "================================================\n",
      "Summary after 1 trial\n",
      "================================================\n",
      "Best end modular solution in 3 levels:\n",
      "Per level number of modules:         [         94,           3,           0] (sum: 97)\n",
      "Per level number of leaf nodes:      [          0,        4159,          50] (sum: 4209)\n",
      "Per level average child degree:      [         94,     44.2766,     16.6667] (average: 45.0415)\n",
      "Per level codelength for modules:    [1.691433444, 0.007630863, 0.000000000] (sum: 1.699064308)\n",
      "Per level codelength for leaf nodes: [0.000000000, 7.395638998, 0.036785952] (sum: 7.432424950)\n",
      "Per level codelength total:          [1.691433444, 7.403269862, 0.036785952] (sum: 9.131489258)\n",
      "\n",
      "===================================================\n",
      "  Infomap ends at 2025-04-18 12:09:34\n",
      "  (Elapsed time: 0.067466s)\n",
      "===================================================\n"
     ]
    }
   ],
   "source": [
    "im = Infomap()\n",
    "\n",
    "# Add edges as integer IDs\n",
    "for u, v in ds.edges():\n",
    "    im.add_link(node_to_id[u], node_to_id[v])\n",
    "\n",
    "im.run()"
   ]
  },
  {
   "cell_type": "code",
   "execution_count": 17,
   "metadata": {},
   "outputs": [
    {
     "name": "stdout",
     "output_type": "stream",
     "text": [
      "Number of communities: 94\n",
      "Top 10 community sizes: [(1, 831), (2, 485), (3, 181), (5, 154), (4, 141), (6, 109), (7, 86), (9, 75), (8, 62), (11, 62)]\n"
     ]
    }
   ],
   "source": [
    "# Get node → module mapping\n",
    "node_to_module = {id_to_node[node.node_id]: node.module_id for node in im.nodes}\n",
    "\n",
    "# Count community sizes\n",
    "community_sizes = Counter(node_to_module.values())\n",
    "\n",
    "print(f\"Number of communities: {len(community_sizes)}\")\n",
    "print(\"Top 10 community sizes:\", community_sizes.most_common(10))"
   ]
  },
  {
   "cell_type": "code",
   "execution_count": null,
   "metadata": {},
   "outputs": [
    {
     "name": "stdout",
     "output_type": "stream",
     "text": [
      "\n",
      "Community 1 (size=831):\n",
      "politics, republican, democrat, liberal, biden, climatechange, trump, conservative, politicaltiktok, usa, climatecrisis, maga, political, leftist, worldnews, learnontiktok, gop, russia, donaldtrump, joebiden, ukrainewar, ukraine, democrats, celebs, trump2024, celebrity, nowthisnews, feelgood, entertainment, nowthis, wga, sagaftra, writersstrike, pakistan, genz, republicans, newsroundup, roundup, thisweek, australia, zelenskyy, texas, congress, voteblue, unitedstates, fyi, vote, 2024election, floods, american\n",
      "\n",
      "Community 2 (size=485):\n",
      "socialjustice, ilc2023, equalpay, justtransition, genderequality, behindthescenes, greenjobs, actnow, womensday, geneva, universityseries, arizona, me, freehawaii, kanakaincollege, advocate, kanakatiktok, universitylife, kanakamaoli, hawaiitiktok, realhawaii, humor, getcrackin, christiansoftiktok, tiktokchristian, smartkids, tiktokpastor, metaverse, survivor, chooselove, recoveryispossible, joy, manofthehouse, humanconnection, genderequity, 5050relationships, weddings, snowwhite, jellyfish_highness, jellyfish_highnessmakeup, nativealttiktok, jellyfish_highnesscooking, nativegirlsdoitbetter, az, indigenousalternativegirl, transition, pansexuals, nativefamily, plussizeedition, curvytok\n",
      "\n",
      "Community 3 (size=181):\n",
      "family, gma, dwts, dancingongma, royals, bachelornation, redcarpet, shangela, oscars, dancingwiththestars, feminism, this, mobile, feminist, mobilealabama, blue, protectwomen, prowoman, womanist, collegelife, womanism, prowomen, lamujermorena, date, jokes, investingtips, haha, plastic, ugccreator, witchtok, realestateinvestortips, investing, hippie, datingtipsforwomen, success, datingtips, realestateinvestingtips, realestateinvesting, realestateinvestor, antifascist, wealthywomen, trends, mmiw, mutualaid, ambassador, lbgtq, goat, dumbwaystodie, algore, noway\n",
      "\n",
      "Community 5 (size=154):\n",
      "sustainability, ecofriendly, sustainableliving, sustainable, zerowaste, sustainablefashion, foodwaste, sustainabilitytiktok, zerowasteliving, lowwastelifestyle, greenwashing, plasticfreejuly, deinfluencing, fastfashion, environmentallyfriendly, earthday, fashion, skit, cooking, cobbuilding, sustainanability, naturalbuilding, earthenplaster, leed, ecohomes, ecoliving, greenbuilding, onthisday, throwback, shein, refill, refillery, compost, ecofriendlyliving, 23in2023, cleanwithme, plasticfreejuly2023, projectpan, usewhatyouhave, reipartner, slowliving, noplastic, sustainablebusiness, lesswaste, deforestation, phd, mindfulconsumption, wildfood, foraging, fashionbusiness\n",
      "\n",
      "Community 4 (size=141):\n",
      "weather, climateaction, groundhogday, hurricane, severeweather, tornado, storm, temperatures, livetv, alexwilson, meteorologist, climateoptimism, flooding, climatesolutions, joke, meme, goodclimatenews, naturaldisaster, weatherchannel, theweatherchannel, flood, weathertok, scary, fact, omg, appalachia, endtheera, cleanenergy, nativeland, real, notreal, ohno, oh, trendy, climateoptimist, globalwarming, heat, endfoodwaste, womenshistorymonth, lookforthehelpers, disabilitypridemonth, newstok, subcribe, kylie, jt, gossipgirledit, gossipgalnews, potato, disabled, lawyersoftiktok\n"
     ]
    }
   ],
   "source": [
    "# Invert the mapping to get community → list of nodes\n",
    "communities = defaultdict(list)\n",
    "for node_id, module_id in node_to_module.items():\n",
    "    communities[module_id].append(node_id)\n",
    "\n",
    "# Sort communities by size\n",
    "sorted_comms = sorted(communities.items(), key=lambda x: len(x[1]), reverse=True)\n",
    "\n",
    "# Show top 3 largest communities and their hashtags/nodes\n",
    "for module_id, members in sorted_comms[:10]:\n",
    "    print(f\"\\nCommunity {module_id} (size={len(members)}):\")\n",
    "    print(\", \".join(members[:50]))  # show top 10\n"
   ]
  },
  {
   "cell_type": "markdown",
   "metadata": {},
   "source": [
    "### Follows"
   ]
  },
  {
   "cell_type": "code",
   "execution_count": 20,
   "metadata": {},
   "outputs": [],
   "source": [
    "# Original graph: directed graph like 'ds' or 'follows'\n",
    "nodes = list(follows.nodes())  # or follows.nodes()\n",
    "node_to_id = {node: i for i, node in enumerate(nodes)}\n",
    "id_to_node = {i: node for node, i in node_to_id.items()}\n"
   ]
  },
  {
   "cell_type": "code",
   "execution_count": 21,
   "metadata": {},
   "outputs": [
    {
     "name": "stdout",
     "output_type": "stream",
     "text": [
      "=======================================================\n",
      "  Infomap v2.8.0 starts at 2025-04-18 12:18:18\n",
      "  -> Input network: \n",
      "  -> No file output!\n",
      "=======================================================\n",
      "  -> Ordinary network input, using the Map Equation for first order network flows\n",
      "Calculating global network flow using flow model 'undirected'... \n",
      "  -> Using undirected links.\n",
      "  => Sum node flow: 1, sum link flow: 1\n",
      "Build internal network with 26627 nodes and 402510 links...\n",
      "  -> One-level codelength: 11.8168979\n",
      "\n",
      "================================================\n",
      "Trial 1/1 starting at 2025-04-18 12:18:18\n",
      "================================================\n",
      "Two-level compression: 6.4% 1.3% 0.00113723394% \n",
      "Partitioned to codelength 1.2365179 + 9.67745333 = 10.91397123 in 93 modules.\n",
      "Super-level compression: to codelength 10.91397123 in 93 top modules.\n",
      "\n",
      "Recursive sub-structure compression: 4.28569866e-05% 0% . Found 3 levels with codelength 10.91396656\n",
      "\n",
      "=> Trial 1/1 finished in 0.724323417s with codelength 10.9139666\n",
      "\n",
      "\n",
      "================================================\n",
      "Summary after 1 trial\n",
      "================================================\n",
      "Best end modular solution in 3 levels:\n",
      "Per level number of modules:         [         93,           2,           0] (sum: 95)\n",
      "Per level number of leaf nodes:      [          0,       26615,          12] (sum: 26627)\n",
      "Per level average child degree:      [         93,     286.204,           6] (average: 285.406)\n",
      "Per level codelength for modules:    [1.236517904, 0.000043501, 0.000000000] (sum: 1.236561406)\n",
      "Per level codelength for leaf nodes: [0.000000000, 9.677183444, 0.000221707] (sum: 9.677405151)\n",
      "Per level codelength total:          [1.236517904, 9.677226946, 0.000221707] (sum: 10.913966557)\n",
      "\n",
      "===================================================\n",
      "  Infomap ends at 2025-04-18 12:18:18\n",
      "  (Elapsed time: 0.954950458s)\n",
      "===================================================\n"
     ]
    }
   ],
   "source": [
    "im = Infomap()\n",
    "\n",
    "# Add edges as integer IDs\n",
    "for u, v in follows.edges():\n",
    "    im.add_link(node_to_id[u], node_to_id[v])\n",
    "\n",
    "im.run()"
   ]
  },
  {
   "cell_type": "code",
   "execution_count": 22,
   "metadata": {},
   "outputs": [
    {
     "name": "stdout",
     "output_type": "stream",
     "text": [
      "Number of communities: 93\n",
      "Top 10 community sizes: [(1, 6053), (2, 4938), (3, 3407), (4, 2383), (5, 2184), (6, 2110), (7, 1099), (8, 954), (9, 580), (10, 362)]\n"
     ]
    }
   ],
   "source": [
    "# Get node → module mapping\n",
    "node_to_module = {id_to_node[node.node_id]: node.module_id for node in im.nodes}\n",
    "\n",
    "# Count community sizes\n",
    "community_sizes = Counter(node_to_module.values())\n",
    "\n",
    "print(f\"Number of communities: {len(community_sizes)}\")\n",
    "print(\"Top 10 community sizes:\", community_sizes.most_common(10))"
   ]
  },
  {
   "cell_type": "code",
   "execution_count": null,
   "metadata": {},
   "outputs": [
    {
     "name": "stdout",
     "output_type": "stream",
     "text": [
      "\n",
      "Community 1 (size=6053):\n",
      "climatechange, sustainability, zerowaste, climatecrisis, ecofriendly, sustainableliving, climateaction, sustainable, learnontiktok, ecotok, plasticfree, lowwaste, plasticpollution, climate, climatejustice, environment, cop27, zerowasteliving, foodwaste, smallbusiness, goodnews, environmentaljustice, eco, sustainabilitytiktok, fossilfuels, climateemergency, earthday, ad, sustainableswaps, refillshop, climatesolutions, ecofriendlyproducts, sustainablelifestyle, greenwashing, beachcleanup, refill, earth, refillery, recycle, goodclimatenews, pollution, reducereuserecycle, lowwasteliving, podcast, recycling, refillstore, cleantok, bigoil, climateoptimism, plastic\n",
      "\n",
      "Community 2 (size=4938):\n",
      "politics, greenscreen, biden, democrat, republican, trump, liberal, ukraine, gop, politicaltiktok, conservative, crime, leftist, genz, russia, political, voteblue, maga, florida, republicans, donaldtrump, palestine, congress, democrats, socialism, lgbt, ukrainewar, crimetok, politicstiktok, usa, progressive, blacktiktok, blm, racism, communism, trump2024, edutok, history, democratsoftiktok, humanrights, midterms, comedy, extremeweather, capitalism, vote, america, lgbtq, health, texas, education\n",
      "\n",
      "Community 3 (size=3407):\n",
      "sustainablefashion, slowfashion, thrifting, thrifted, thrift, fashion, sewing, upcycle, ootd, vintage, secondhand, upcycling, diy, thrifttok, reseller, fashiontiktok, resellercommunity, thriftstorefinds, secondhandfashion, upcycledfashion, thriftfinds, ethicalfashion, thrifthaul, thriftwithme, fastfashion, thriftflip, sewingtiktok, handmade, goodwill, thriftedfashion, poshmark, reselling, ebay, ebayreseller, sustainablestyle, london, charityshop, goodwillfinds, thriftshop, ebayseller, vintagefashion, thriftedhome, homedecor, thriftedstyle, resell, thriftstore, upcycled, charityshopfinds, charityshophaul, outfitinspo\n",
      "\n",
      "Community 4 (size=2383):\n",
      "gardening, gardentok, garden, homestead, growyourownfood, cottagecore, foraging, homesteading, nativeplants, slowliving, momsoftiktok, compost, sahm, wildfood, farm, momlife, homesteadlife, plants, momtok, chickens, simpleliving, organicgardening, gardentips, urbanhomestead, growyourown, farmlife, backyardgarden, pnw, permaculture, crunchymom, gardening101, cottagecoreaesthetic, homegrown, regenerativeagriculture, urbangarden, homemade, harvest, homemaker, gardentoplate, holistichealth, gardenharvest, offgridliving, fallrecipes, plantsoftiktok, allotment, nativeplanttok, beginnergardener, onthisday, aesthetic, gardeningtips\n",
      "\n",
      "Community 5 (size=2184):\n",
      "nativetiktok, indigenous, frenchbulldogforsale, frenchbulldogfluffy, native, frenchbulldogfamily, indigenoustiktok, frenchbulldoggs, nativeamerican, navajo, frenchbulldoginstagram, navajonation, navajotiktok, nativehumor, frenchbulldogkisses, xyzbca, nativetiktoks, powwow, beadwork, landback, nativeamericantiktok, frenchbulldoglife, 4u, reztok, beadedearrings, xyzcba, family, nativetok, xyzabc, beads, mmiw, music, navajohumor, nativeartist, culture, arizona, healing, cherokee, nativepride, icwa, comedyvideo, apache, firstnations, 4you, newmexico, nativefamily, indigenouspride, humor, unity, makeup\n"
     ]
    }
   ],
   "source": [
    "# Invert the mapping to get community → list of nodes\n",
    "communities = defaultdict(list)\n",
    "for node_id, module_id in node_to_module.items():\n",
    "    communities[module_id].append(node_id)\n",
    "\n",
    "# Sort communities by size\n",
    "sorted_comms = sorted(communities.items(), key=lambda x: len(x[1]), reverse=True)\n",
    "\n",
    "# Show top 3 largest communities and their hashtags/nodes\n",
    "for module_id, members in sorted_comms[:10]:\n",
    "    print(f\"\\nCommunity {module_id} (size={len(members)}):\")\n",
    "    print(\", \".join(members[:50]))  # show top 10\n"
   ]
  }
 ],
 "metadata": {
  "kernelspec": {
   "display_name": "base",
   "language": "python",
   "name": "python3"
  },
  "language_info": {
   "codemirror_mode": {
    "name": "ipython",
    "version": 3
   },
   "file_extension": ".py",
   "mimetype": "text/x-python",
   "name": "python",
   "nbconvert_exporter": "python",
   "pygments_lexer": "ipython3",
   "version": "3.11.4"
  }
 },
 "nbformat": 4,
 "nbformat_minor": 2
}
