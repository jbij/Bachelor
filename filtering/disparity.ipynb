{
 "cells": [
  {
   "cell_type": "code",
   "execution_count": 55,
   "metadata": {},
   "outputs": [],
   "source": [
    "import pickle\n",
    "import networkx as nx\n",
    "import pandas as pd\n",
    "import numpy as np\n",
    "import powerlaw\n",
    "import matplotlib.pyplot as plt\n",
    "from stats import graph_stats\n",
    "import backboning as bb"
   ]
  },
  {
   "cell_type": "code",
   "execution_count": 14,
   "metadata": {},
   "outputs": [],
   "source": [
    "def backbone_pipepline(filepath, threshold, is_directed = False):\n",
    "    with open(filepath, \"rb\") as f:\n",
    "        G = pickle.load(f)\n",
    "\n",
    "    edge_data = [\n",
    "    {'src': u, 'trg': v, 'nij': d['weight']}\n",
    "    for u, v, d in G.edges(data=True)]\n",
    "\n",
    "    df = pd.DataFrame(edge_data)\n",
    "\n",
    "    if is_directed:\n",
    "        disparity_applied = bb.disparity_filter(df, undirected = False)\n",
    "    else:\n",
    "        disparity_applied = bb.disparity_filter(df, undirected = True)\n",
    "\n",
    "    thresh_applied = bb.thresholding(disparity_applied, threshold=threshold).drop(columns=[\"score\"])\n",
    "\n",
    "    if is_directed:\n",
    "        backbone = nx.from_pandas_edgelist(\n",
    "        thresh_applied,\n",
    "        source=\"src\",\n",
    "        target=\"trg\",\n",
    "        edge_attr=\"nij\",\n",
    "        create_using=nx.DiGraph())\n",
    "    else:\n",
    "        backbone = nx.from_pandas_edgelist(\n",
    "        thresh_applied,\n",
    "        source=\"src\",\n",
    "        target=\"trg\",\n",
    "        edge_attr=\"nij\",\n",
    "        create_using=nx.Graph())\n",
    "    \n",
    "    return backbone"
   ]
  },
  {
   "cell_type": "code",
   "execution_count": 56,
   "metadata": {},
   "outputs": [],
   "source": [
    "hashtags_to_remove = set([\n",
    "    'hashtag', 'fyp', 'foryou', 'foryoupage', 'fypシ', 'viral', 'love',\n",
    "    'trending', 'tiktok', 'funny', 'fypage', 'capcut', 'duet', 'news',\n",
    "    'foryourpage', 'fy', 'fypシ゚viral', 'follow', 'viralvideo', 'like',\n",
    "    'trend', 'stitch', 'video', 'lol', 'instagram', 'asmr', 'explorepage',\n",
    "    'instagood', 'viraltiktok', 'youtube', 'share', 'new', '2023', 'reels',\n",
    "    'followme', 'vlog', 'satisfying', 'viralvideos', 'wow', 'funnyvideos',\n",
    "    'repost', 'relatable', 'followforfollowback', 'breakingnews', 'storytime',\n",
    "    'tiktokfamous', 'greenscreenvideo', 'for', 'foru', 'tiktoktrend', 'goviral',\n",
    "    'bhfyp', 'viralpost', 'f', 'tiktoker', 'fypp', 'fyppppppppppppppppppppppp',\n",
    "    'tiktokviral', '4upage', 'forupage', '4you', 'xyzabc', 'xyzcba', '4u', 'xyzbca', 'trendy', 'oh', 'ohno', 'relatable', 'bhfyp', 'trending', '2023', 'follow', 'explorepage', 'like', 'viral', 'tiktok', 'fybシ', 'usa_tiktok',\n",
    "    'foruyou', 'trends', 'fybpage', 'trendiing', 'forupage', 'fyb', 'foryourpage', 'foryoupage', 'viralvideo', 'fyou', 'foryou', '4u', '4you', 'pageforyou', 'fyp', 'series', 'fdseite', 'fypage',\n",
    "    'fyoupage', 'fds', '4upage', 'tiktokfanpage', '4youpage', 'fürdich', 'fyoupagetiktok', 'viralllllll', 'dancetrends', 'dancetrend', 'duet'\n",
    "])"
   ]
  },
  {
   "cell_type": "markdown",
   "metadata": {},
   "source": [
    "# Hashtag coocurence"
   ]
  },
  {
   "cell_type": "code",
   "execution_count": 50,
   "metadata": {},
   "outputs": [],
   "source": [
    "hashtag_path = '../../shared-folder-gald/data/unipartite_og.pkl'"
   ]
  },
  {
   "cell_type": "code",
   "execution_count": 51,
   "metadata": {},
   "outputs": [
    {
     "name": "stderr",
     "output_type": "stream",
     "text": [
      "Calculating DF score...\n",
      "/Users/renatasapeta/Desktop/bachelor/Bachelor/filtering/backboning.py:184: FutureWarning: The default value of numeric_only in DataFrameGroupBy.sum is deprecated. In a future version, numeric_only will default to False. Either specify numeric_only or select only columns which should be valid for the function.\n",
      "  table_sum = table.groupby(table[\"src\"]).sum().reset_index()\n",
      "/Users/renatasapeta/Desktop/bachelor/Bachelor/filtering/backboning.py:199: FutureWarning: In a future version of pandas all arguments of DataFrame.drop except for the argument 'labels' will be keyword-only.\n",
      "  table = table.drop(\"edge\", 1)\n",
      "/Users/renatasapeta/Desktop/bachelor/Bachelor/filtering/backboning.py:200: FutureWarning: In a future version of pandas all arguments of DataFrame.drop except for the argument 'labels' will be keyword-only.\n",
      "  table = table.drop(\"score_min\", 1)\n",
      "/Users/renatasapeta/Desktop/bachelor/Bachelor/filtering/backboning.py:201: FutureWarning: In a future version of pandas all arguments of DataFrame.drop except for the argument 'labels' will be keyword-only.\n",
      "  table = table.drop(\"variance_max\", 1)\n"
     ]
    }
   ],
   "source": [
    "hashtag_backbone = backbone_pipepline(hashtag_path, threshold=0.999, is_directed=False)"
   ]
  },
  {
   "cell_type": "code",
   "execution_count": 52,
   "metadata": {},
   "outputs": [
    {
     "name": "stdout",
     "output_type": "stream",
     "text": [
      "Calculating best minimal value for power law fit\n",
      "xmin progress: 99%\r"
     ]
    },
    {
     "name": "stderr",
     "output_type": "stream",
     "text": [
      "Assuming nested distributions\n"
     ]
    }
   ],
   "source": [
    "HC_stats = graph_stats(hashtag_backbone)"
   ]
  },
  {
   "cell_type": "code",
   "execution_count": 53,
   "metadata": {},
   "outputs": [
    {
     "name": "stdout",
     "output_type": "stream",
     "text": [
      "num_nodes - 39665\n",
      "num_edges - 478445\n",
      "density - 0.0006082162902529744\n",
      "mean_degree - 24.124290936593976\n",
      "std_degree - 96.52941039059701\n",
      "global_clustering_coeff - 0.13371313064145485\n",
      "degree_assortativity - -0.07075999525796825\n",
      "GCC_size - 38505\n",
      "power_law_alpha - 2.918318315988534\n",
      "power_law_xmin - 387.0\n",
      "ks_test_statistic - 0.025464531027676096\n",
      "best_powerlaw_comparison - power law vs truncated_power_law: R = -0.128, p = 0.612\n"
     ]
    }
   ],
   "source": [
    "for key, val in HC_stats.items():\n",
    "    print(key,'-', val)"
   ]
  },
  {
   "cell_type": "code",
   "execution_count": 54,
   "metadata": {},
   "outputs": [],
   "source": [
    "with open('../ready_networks/cooc_filtered.pkl', 'wb') as f:\n",
    "    pickle.dump(hashtag_backbone, f)"
   ]
  },
  {
   "cell_type": "markdown",
   "metadata": {},
   "source": [
    "# Follow"
   ]
  },
  {
   "cell_type": "code",
   "execution_count": 22,
   "metadata": {},
   "outputs": [],
   "source": [
    "follow_path = '../../shared-folder-gald/data/follow_graph.pkl'"
   ]
  },
  {
   "cell_type": "code",
   "execution_count": 35,
   "metadata": {},
   "outputs": [
    {
     "name": "stderr",
     "output_type": "stream",
     "text": [
      "Calculating DF score...\n",
      "/Users/renatasapeta/Desktop/bachelor/Bachelor/filtering/backboning.py:184: FutureWarning: The default value of numeric_only in DataFrameGroupBy.sum is deprecated. In a future version, numeric_only will default to False. Either specify numeric_only or select only columns which should be valid for the function.\n",
      "  table_sum = table.groupby(table[\"src\"]).sum().reset_index()\n"
     ]
    }
   ],
   "source": [
    "follow_backbone = backbone_pipepline(follow_path, threshold=0.90, is_directed=True)"
   ]
  },
  {
   "cell_type": "code",
   "execution_count": 36,
   "metadata": {},
   "outputs": [
    {
     "name": "stdout",
     "output_type": "stream",
     "text": [
      "Calculating best minimal value for power law fit\n",
      "xmin progress: 99%\r"
     ]
    },
    {
     "name": "stderr",
     "output_type": "stream",
     "text": [
      "/Users/renatasapeta/anaconda3/lib/python3.11/site-packages/powerlaw.py:1615: RuntimeWarning: invalid value encountered in divide\n",
      "  CDF = CDF/norm\n",
      "'nan' in fit cumulative distribution values.\n",
      "Likely underflow or overflow error: the optimal fit for this distribution gives values that are so extreme that we lack the numerical precision to calculate them.\n",
      "Assuming nested distributions\n"
     ]
    }
   ],
   "source": [
    "follow_stats = graph_stats(follow_backbone)"
   ]
  },
  {
   "cell_type": "code",
   "execution_count": 37,
   "metadata": {},
   "outputs": [
    {
     "name": "stdout",
     "output_type": "stream",
     "text": [
      "num_nodes - 26627\n",
      "num_edges - 402510\n",
      "density - 0.0005677387124915953\n",
      "mean_degree - 30.233221917602435\n",
      "std_degree - 179.07905239759276\n",
      "global_clustering_coeff - 0.28544694735273846\n",
      "degree_assortativity - -0.27833885023649185\n",
      "power_law_alpha - 2.090055669932052\n",
      "power_law_xmin - 20.0\n",
      "ks_test_statistic - 0.01337570266014021\n",
      "best_powerlaw_comparison - power law vs truncated_power_law: R = -1.382, p = 0.096\n"
     ]
    }
   ],
   "source": [
    "for key, val in follow_stats.items():\n",
    "    print(key,'-', val)"
   ]
  },
  {
   "cell_type": "code",
   "execution_count": 48,
   "metadata": {},
   "outputs": [],
   "source": [
    "with open('follow_filtered.pkl', 'wb') as f:\n",
    "    pickle.dump(follow_backbone, f)"
   ]
  },
  {
   "cell_type": "markdown",
   "metadata": {},
   "source": [
    "# Duet/Stitch filtered hashtags"
   ]
  },
  {
   "cell_type": "code",
   "execution_count": 61,
   "metadata": {},
   "outputs": [],
   "source": [
    "with open('../ready_networks/ds_network.pkl', 'rb') as f:\n",
    "    ds = pickle.load(f)\n",
    "\n",
    "ds.remove_nodes_from(hashtags_to_remove)\n",
    "\n",
    "with open('../ready_networks/ds_network.pkl', 'wb') as f:\n",
    "    pickle.dump(ds, f)"
   ]
  },
  {
   "cell_type": "markdown",
   "metadata": {},
   "source": [
    "# Likes filtered hashtags"
   ]
  },
  {
   "cell_type": "code",
   "execution_count": 62,
   "metadata": {},
   "outputs": [],
   "source": [
    "with open('../ready_networks/likes_network.pkl', 'rb') as f:\n",
    "    likes = pickle.load(f)\n",
    "\n",
    "likes.remove_nodes_from(hashtags_to_remove)\n",
    "\n",
    "with open('../ready_networks/likes_network.pkl', 'wb') as f:\n",
    "    pickle.dump(likes, f)"
   ]
  }
 ],
 "metadata": {
  "kernelspec": {
   "display_name": "base",
   "language": "python",
   "name": "python3"
  },
  "language_info": {
   "codemirror_mode": {
    "name": "ipython",
    "version": 3
   },
   "file_extension": ".py",
   "mimetype": "text/x-python",
   "name": "python",
   "nbconvert_exporter": "python",
   "pygments_lexer": "ipython3",
   "version": "3.11.4"
  }
 },
 "nbformat": 4,
 "nbformat_minor": 2
}
