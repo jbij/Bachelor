{
 "cells": [
  {
   "cell_type": "code",
   "execution_count": 7,
   "metadata": {},
   "outputs": [],
   "source": [
    "import requests"
   ]
  },
  {
   "cell_type": "markdown",
   "metadata": {},
   "source": [
    "# get keys from file"
   ]
  },
  {
   "cell_type": "code",
   "execution_count": 3,
   "metadata": {},
   "outputs": [],
   "source": [
    "with open(\"keys1.txt\") as f:\n",
    "    lines = f.readlines()\n",
    "    client_key = lines[0].strip()\n",
    "    client_secret = lines[1].strip()\n",
    "    "
   ]
  },
  {
   "cell_type": "markdown",
   "metadata": {},
   "source": [
    "# Useful functions\n"
   ]
  },
  {
   "cell_type": "code",
   "execution_count": 4,
   "metadata": {},
   "outputs": [],
   "source": [
    "def get_access_token(client_key, client_secret):\n",
    "    # Endpoint URL\n",
    "    endpoint_url = \"https://open.tiktokapis.com/v2/oauth/token/\"\n",
    "\n",
    "    # Request headers\n",
    "    headers = {\n",
    "        'Content-Type': 'application/x-www-form-urlencoded',\n",
    "    }\n",
    "\n",
    "    # Request body parameters\n",
    "    data = {\n",
    "        'client_key': client_key,\n",
    "        'client_secret': client_secret,\n",
    "        'grant_type': 'client_credentials',\n",
    "    }\n",
    "\n",
    "    # Make the POST request\n",
    "    response = requests.post(endpoint_url, headers=headers, data=data)\n",
    "\n",
    "    # Check if the request was successful (status code 200)\n",
    "    if response.status_code == 200:\n",
    "        # Parse and print the response JSON\n",
    "        response_json = response.json()\n",
    "        return response_json['access_token']\n",
    "    else:\n",
    "        # If the request was not successful, print the error response JSON\n",
    "        \n",
    "        return response.json()"
   ]
  },
  {
   "cell_type": "markdown",
   "metadata": {},
   "source": [
    "link to user info call: https://developers.tiktok.com/doc/research-api-specs-query-user-info?enter_method=left_navigation\n"
   ]
  },
  {
   "cell_type": "code",
   "execution_count": 5,
   "metadata": {},
   "outputs": [],
   "source": [
    "def get_user_info(username, access_token,fields =\"display_name, bio_description, avatar_url, is_verified, follower_count, following_count, likes_count, video_count\" ):\n",
    "    query_params = {\"fields\": fields}\n",
    "    query_body = {\"username\": username}\n",
    "    headers = {\"Authorization\": f\"Bearer {access_token}\"}\n",
    "    \n",
    "    endpoint = \"https://open.tiktokapis.com/v2/research/user/info/\"\n",
    "    response = requests.post(endpoint, json=query_body, params=query_params, headers=headers)\n",
    "\n",
    "    if response.status_code == 200:\n",
    "        # Parse and extract information from the response\n",
    "        return response.json().get(\"data\", {})\n",
    "    else:\n",
    "        \n",
    "        return {response.text}"
   ]
  },
  {
   "cell_type": "markdown",
   "metadata": {},
   "source": [
    "link to video call: https://developers.tiktok.com/doc/research-api-specs-query-videos?enter_method=left_navigation"
   ]
  },
  {
   "cell_type": "code",
   "execution_count": 16,
   "metadata": {},
   "outputs": [],
   "source": [
    "def query_video_per_username(access_token,username):\n",
    "    \n",
    "    endpoint = \"https://open.tiktokapis.com/v2/research/video/query/\"\n",
    "    query_params = {\n",
    "    \"fields\": \"id,video_description,create_time,region_code,share_count,view_count,like_count,comment_count,music_id,hashtag_names,username,effect_ids,playlist_id,voice_to_text\",\n",
    "    }\n",
    "    query = {\n",
    "        \"and\": [ {\"operation\": \"IN\", \"field_name\": \"username\", \"field_values\": [username]} ]\n",
    "    }\n",
    "    query_body = {\n",
    "    \"query\": query,\n",
    "    \"start_date\": '20250120',\n",
    "    \"end_date\": '20250130', #max period between start and end date is 30 days\n",
    "    \"max_count\": 3 #max here is 100 per call\n",
    "    }\n",
    "    \n",
    "    # Set headers\n",
    "    #access token expires in 2 hours\n",
    "    headers = {\n",
    "        \"Content-Type\": \"application/json\",\n",
    "        \"Authorization\": f\"Bearer {access_token}\"\n",
    "    }\n",
    "    \n",
    "        # Make the request\n",
    "    response = requests.post(endpoint, json=query_body, params=query_params, headers=headers, timeout=30)\n",
    "    \n",
    "   \n",
    "    if response.status_code == 200:\n",
    "        \n",
    "        data = response.json().get(\"data\", {})\n",
    "        videos = data.get(\"videos\", [])\n",
    "\n",
    "        return (videos)\n",
    "\n",
    "\n",
    "    else:\n",
    "        \n",
    "        return ([response])\n",
    "    "
   ]
  },
  {
   "cell_type": "markdown",
   "metadata": {},
   "source": [
    "# Try it out!"
   ]
  },
  {
   "cell_type": "code",
   "execution_count": 8,
   "metadata": {},
   "outputs": [],
   "source": [
    "access_token = get_access_token(client_key, client_secret)"
   ]
  },
  {
   "cell_type": "code",
   "execution_count": 23,
   "metadata": {},
   "outputs": [
    {
     "data": {
      "text/plain": [
       "{'likes_count': 14667073,\n",
       " 'video_count': 554,\n",
       " 'avatar_url': 'https://p19-pu-sign-useast8.tiktokcdn-us.com/tos-useast5-avt-0068-tx/7336807972263165995~c5_168x168.jpeg?lk3s=a5d48078&nonce=44576&refresh_token=0462af94c17a14079e81afe77bdd1d9a&x-expires=1738857600&x-signature=3l%2BVnEp%2FZ1ulWj9Fgl6hNJziow4%3D&shp=a5d48078&shcp=8aecc5ac',\n",
       " 'bio_description': 'I turn glass into sand for coastal restoration\\nIG: franzeeska YT: ecofran_',\n",
       " 'display_name': 'FRANZISKA ♻️',\n",
       " 'follower_count': 313667,\n",
       " 'following_count': 357,\n",
       " 'is_verified': False}"
      ]
     },
     "execution_count": 23,
     "metadata": {},
     "output_type": "execute_result"
    }
   ],
   "source": [
    "get_user_info('ecofran', access_token)"
   ]
  },
  {
   "cell_type": "code",
   "execution_count": 24,
   "metadata": {},
   "outputs": [
    {
     "data": {
      "text/plain": [
       "[{'music_id': 6705083959446865921,\n",
       "  'share_count': 2,\n",
       "  'id': 7463532349708569902,\n",
       "  'like_count': 193,\n",
       "  'hashtag_names': [],\n",
       "  'region_code': 'US',\n",
       "  'username': 'ecofran',\n",
       "  'video_description': 'I never thought I’d see our islands and glass recycling facility covered in snow. It’s quite magical ❄️',\n",
       "  'view_count': 1821,\n",
       "  'comment_count': 12,\n",
       "  'create_time': 1737739113},\n",
       " {'comment_count': 30,\n",
       "  'like_count': 656,\n",
       "  'share_count': 2,\n",
       "  'username': 'ecofran',\n",
       "  'video_description': 'I never thought I would see snow covering the islands ❄️❄️❄️ I’m taking in the magic of it all while grappling with our changing climate and what it means for Louisiana 💙',\n",
       "  'create_time': 1737665814,\n",
       "  'hashtag_names': [],\n",
       "  'id': 7463217787041795371,\n",
       "  'music_id': 7463217763738929963,\n",
       "  'region_code': 'US',\n",
       "  'view_count': 2972,\n",
       "  'voice_to_text': \"Louisiana snow update. I'm at my islands and they're covered in snow. It's pretty magical looking. Um, one of the best parts is that it looks like all the hyacinth is dead. Let's walk out. Oh my gosh. Wow. Look at this. Wow. The Bayou is frozen. It's frozen over. The bullrush looks good. Bulrush is so hardy. Oh my god, look at all that dead hyacinth. That's a beautiful sight. That is a beautiful sight. Do you see those giant marks? Is it a giant monster or is it bunny butt? Bunny butt. Bullrush is alive. Hyacinth is dead. That's a beautiful sight. That's a beautiful sight. And look at these marks. Someone was traveling. Someone was traveling on Glass Island. So frozen. I wonder if I can walk on it. Should I drive? Will I regret? Oh, it's very muddy. Okay. Bye, my snow covered island. I love you.\\n\"},\n",
       " {'like_count': 775,\n",
       "  'region_code': 'US',\n",
       "  'share_count': 25,\n",
       "  'username': 'ecofran',\n",
       "  'comment_count': 26,\n",
       "  'hashtag_names': ['stitch'],\n",
       "  'id': 7462498713873796395,\n",
       "  'music_id': 7462498846787144494,\n",
       "  'video_description': '#stitch with @FRANZISKA ♻️ I fear there’s more snow. More than a beer bottles length!!! What ',\n",
       "  'view_count': 6980,\n",
       "  'voice_to_text': \"That's a 9 inch long beer bottle, okay? It's not even been like three hours since that video. Where are they? Where? Oh, my god, are you kidding? Are you kidding me? Are we okay? Are we okay?\\n\",\n",
       "  'create_time': 1737498417}]"
      ]
     },
     "execution_count": 24,
     "metadata": {},
     "output_type": "execute_result"
    }
   ],
   "source": [
    "query_video_per_username(access_token,'ecofran')"
   ]
  },
  {
   "cell_type": "code",
   "execution_count": null,
   "metadata": {},
   "outputs": [],
   "source": []
  }
 ],
 "metadata": {
  "kernelspec": {
   "display_name": "Python 3",
   "language": "python",
   "name": "python3"
  },
  "language_info": {
   "codemirror_mode": {
    "name": "ipython",
    "version": 3
   },
   "file_extension": ".py",
   "mimetype": "text/x-python",
   "name": "python",
   "nbconvert_exporter": "python",
   "pygments_lexer": "ipython3",
   "version": "3.6.8"
  }
 },
 "nbformat": 4,
 "nbformat_minor": 2
}
