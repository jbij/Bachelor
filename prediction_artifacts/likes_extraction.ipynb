{
 "cells": [
  {
   "cell_type": "code",
   "execution_count": 180,
   "metadata": {},
   "outputs": [],
   "source": [
    "import json\n",
    "import pandas as pd\n",
    "import requests"
   ]
  },
  {
   "cell_type": "code",
   "execution_count": 181,
   "metadata": {},
   "outputs": [],
   "source": [
    "follows = pd.read_csv('../shared-folder-gald/data/follow-link.csv')"
   ]
  },
  {
   "cell_type": "code",
   "execution_count": 182,
   "metadata": {},
   "outputs": [],
   "source": [
    "usernames = pd.unique(follows[['source', 'target']].values.ravel()).tolist()"
   ]
  },
  {
   "cell_type": "code",
   "execution_count": 183,
   "metadata": {},
   "outputs": [],
   "source": [
    "with open(\"../shared-folder-gald/keys1.txt\") as f:\n",
    "    lines = f.readlines()\n",
    "    client_key = lines[0].strip()\n",
    "    client_secret = lines[1].strip()"
   ]
  },
  {
   "cell_type": "code",
   "execution_count": 184,
   "metadata": {},
   "outputs": [],
   "source": [
    "def get_access_token(client_key, client_secret):\n",
    "    # Endpoint URL\n",
    "    endpoint_url = \"https://open.tiktokapis.com/v2/oauth/token/\"\n",
    "\n",
    "    # Request headers\n",
    "    headers = {\n",
    "        'Content-Type': 'application/x-www-form-urlencoded',\n",
    "    }\n",
    "\n",
    "    # Request body parameters\n",
    "    data = {\n",
    "        'client_key': client_key,\n",
    "        'client_secret': client_secret,\n",
    "        'grant_type': 'client_credentials',\n",
    "    }\n",
    "\n",
    "    # Make the POST request\n",
    "    response = requests.post(endpoint_url, headers=headers, data=data)\n",
    "\n",
    "    # Check if the request was successful (status code 200)\n",
    "    if response.status_code == 200:\n",
    "        # Parse and print the response JSON\n",
    "        response_json = response.json()\n",
    "        return response_json['access_token']\n",
    "    else:\n",
    "        # If the request was not successful, print the error response JSON\n",
    "        \n",
    "        return response.json()"
   ]
  },
  {
   "cell_type": "code",
   "execution_count": 185,
   "metadata": {},
   "outputs": [],
   "source": [
    "# def get_access_token(client_key, client_secret):\n",
    "#     endpoint_url = \"https://open.tiktokapis.com/v2/oauth/token/\"\n",
    "#     headers = {'Content-Type': 'application/x-www-form-urlencoded'}\n",
    "#     data = {\n",
    "#         'client_key': client_key,\n",
    "#         'client_secret': client_secret,\n",
    "#         'grant_type': 'client_credentials',\n",
    "#     }\n",
    "\n",
    "#     response = requests.post(endpoint_url, headers=headers, data=data)\n",
    "#     response_json = response.json()\n",
    "\n",
    "#     if response.status_code == 200:\n",
    "#         print(response_json)  # Debugging print\n",
    "#         return response_json.get('access_token', 'No access token found')\n",
    "#     else:\n",
    "#         print(f\"Error {response.status_code}: {response_json}\")  # Debugging print\n",
    "#         return response_json"
   ]
  },
  {
   "cell_type": "code",
   "execution_count": 186,
   "metadata": {},
   "outputs": [],
   "source": [
    "def get_liked_info(username, access_token,fields =\"id, username\" ):\n",
    "    query_params = {\"fields\": fields}\n",
    "    query_body = {\"username\": username}\n",
    "    headers = {\"Authorization\": f\"Bearer {access_token}\"}\n",
    "    \n",
    "    endpoint = \"https://open.tiktokapis.com/v2/research/user/liked_videos/\"\n",
    "    response = requests.post(endpoint, json=query_body, params=query_params, headers=headers)\n",
    "\n",
    "    if response.status_code == 200:\n",
    "        # Parse and extract information from the response\n",
    "        return response.json().get(\"data\", {})\n",
    "    else:\n",
    "        \n",
    "        return {response.text}"
   ]
  },
  {
   "cell_type": "code",
   "execution_count": 187,
   "metadata": {},
   "outputs": [],
   "source": [
    "access_token = get_access_token(client_key, client_secret)"
   ]
  },
  {
   "cell_type": "code",
   "execution_count": 188,
   "metadata": {},
   "outputs": [],
   "source": [
    "liked_videos = []\n",
    "for username in usernames[12989:13868]:\n",
    "    liked_videos.append(get_liked_info(username, access_token))"
   ]
  },
  {
   "cell_type": "code",
   "execution_count": 189,
   "metadata": {},
   "outputs": [],
   "source": [
    "combined = {}\n",
    "for i, username in enumerate(usernames[12989:13868]):\n",
    "    combined[username] = liked_videos[i]"
   ]
  },
  {
   "cell_type": "code",
   "execution_count": 190,
   "metadata": {},
   "outputs": [
    {
     "name": "stdout",
     "output_type": "stream",
     "text": [
      "                username                   id             creator\n",
      "0     atuwerhossainridoy  7451420779469688080    mdzahidhasan1636\n",
      "1     atuwerhossainridoy  7453144018323639568    mdzahidhasan1636\n",
      "2     atuwerhossainridoy  7454618071815294209    mdzahidhasan1636\n",
      "3     atuwerhossainridoy  7449835435552935184    mdzahidhasan1636\n",
      "4     atuwerhossainridoy  7450505456025390353    mdzahidhasan1636\n",
      "...                  ...                  ...                 ...\n",
      "1068       maikengreimel  7467861092786638102         janes.wonda\n",
      "1069       maikengreimel  7465696976609266966  desperatebookwives\n",
      "1070       maikengreimel  7466856348878212374         ninagreimel\n",
      "1071       maikengreimel  7451570066488921366        sandrasbooks\n",
      "1072       maikengreimel  7429042977038732587          bookish.hb\n",
      "\n",
      "[1073 rows x 3 columns]\n"
     ]
    }
   ],
   "source": [
    "rows = []\n",
    "\n",
    "for key, value in combined.items():\n",
    "    if value and 'user_liked_videos' in value:  # Ensure key has data\n",
    "        for video in value['user_liked_videos']:\n",
    "            rows.append({\n",
    "                'username': key,  # Dictionary key\n",
    "                'id': video['id'],  # Video ID\n",
    "                'creator': video['username']  # Video username\n",
    "            })\n",
    "\n",
    "# Create DataFrame\n",
    "likes_df = pd.DataFrame(rows)\n",
    "\n",
    "# Display DataFrame\n",
    "print(likes_df)"
   ]
  },
  {
   "cell_type": "code",
   "execution_count": 191,
   "metadata": {},
   "outputs": [],
   "source": [
    "likes_df.to_csv(\"liked_videos.csv\", mode=\"a\", index=False, header=False)"
   ]
  }
 ],
 "metadata": {
  "kernelspec": {
   "display_name": "Python 3",
   "language": "python",
   "name": "python3"
  },
  "language_info": {
   "codemirror_mode": {
    "name": "ipython",
    "version": 3
   },
   "file_extension": ".py",
   "mimetype": "text/x-python",
   "name": "python",
   "nbconvert_exporter": "python",
   "pygments_lexer": "ipython3",
   "version": "3.11.7"
  }
 },
 "nbformat": 4,
 "nbformat_minor": 2
}
