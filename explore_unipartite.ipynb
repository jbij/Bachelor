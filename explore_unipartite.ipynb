{
 "cells": [
  {
   "cell_type": "code",
   "execution_count": 1,
   "metadata": {},
   "outputs": [],
   "source": [
    "import pandas as pd\n",
    "import seaborn as sns\n",
    "import matplotlib.pyplot as plt\n",
    "import numpy as np\n",
    "import powerlaw\n",
    "import networkx as nx\n",
    "import pickle as pkl\n",
    "import community as community_louvain\n",
    "from collections import Counter\n",
    "import random"
   ]
  },
  {
   "cell_type": "code",
   "execution_count": 3,
   "metadata": {},
   "outputs": [],
   "source": [
    "unipartite = pd.read_csv('../shared-folder-gald/data/edgelist_unipartite.csv')"
   ]
  },
  {
   "cell_type": "code",
   "execution_count": 4,
   "metadata": {},
   "outputs": [
    {
     "data": {
      "text/html": [
       "<div>\n",
       "<style scoped>\n",
       "    .dataframe tbody tr th:only-of-type {\n",
       "        vertical-align: middle;\n",
       "    }\n",
       "\n",
       "    .dataframe tbody tr th {\n",
       "        vertical-align: top;\n",
       "    }\n",
       "\n",
       "    .dataframe thead th {\n",
       "        text-align: right;\n",
       "    }\n",
       "</style>\n",
       "<table border=\"1\" class=\"dataframe\">\n",
       "  <thead>\n",
       "    <tr style=\"text-align: right;\">\n",
       "      <th></th>\n",
       "      <th>Source</th>\n",
       "      <th>Target</th>\n",
       "      <th>Weight</th>\n",
       "    </tr>\n",
       "  </thead>\n",
       "  <tbody>\n",
       "    <tr>\n",
       "      <th>0</th>\n",
       "      <td>democraticrepublicans</td>\n",
       "      <td>lewisandclark</td>\n",
       "      <td>1</td>\n",
       "    </tr>\n",
       "    <tr>\n",
       "      <th>1</th>\n",
       "      <td>democraticrepublicans</td>\n",
       "      <td>johnadams</td>\n",
       "      <td>1</td>\n",
       "    </tr>\n",
       "    <tr>\n",
       "      <th>2</th>\n",
       "      <td>democraticrepublicans</td>\n",
       "      <td>apgovernment</td>\n",
       "      <td>1</td>\n",
       "    </tr>\n",
       "    <tr>\n",
       "      <th>3</th>\n",
       "      <td>democraticrepublicans</td>\n",
       "      <td>usconstitution</td>\n",
       "      <td>1</td>\n",
       "    </tr>\n",
       "    <tr>\n",
       "      <th>4</th>\n",
       "      <td>democraticrepublicans</td>\n",
       "      <td>barbarypirates</td>\n",
       "      <td>1</td>\n",
       "    </tr>\n",
       "    <tr>\n",
       "      <th>...</th>\n",
       "      <td>...</td>\n",
       "      <td>...</td>\n",
       "      <td>...</td>\n",
       "    </tr>\n",
       "    <tr>\n",
       "      <th>35570521</th>\n",
       "      <td>iuictv</td>\n",
       "      <td>iuicnigeria</td>\n",
       "      <td>1</td>\n",
       "    </tr>\n",
       "    <tr>\n",
       "      <th>35570522</th>\n",
       "      <td>面白い動画</td>\n",
       "      <td>lion</td>\n",
       "      <td>1</td>\n",
       "    </tr>\n",
       "    <tr>\n",
       "      <th>35570523</th>\n",
       "      <td>coolartwork</td>\n",
       "      <td>lion</td>\n",
       "      <td>2</td>\n",
       "    </tr>\n",
       "    <tr>\n",
       "      <th>35570524</th>\n",
       "      <td>bridalmakeup</td>\n",
       "      <td>fridayfashionfreestyle</td>\n",
       "      <td>1</td>\n",
       "    </tr>\n",
       "    <tr>\n",
       "      <th>35570525</th>\n",
       "      <td>mediterranean</td>\n",
       "      <td>expeditioncruise</td>\n",
       "      <td>1</td>\n",
       "    </tr>\n",
       "  </tbody>\n",
       "</table>\n",
       "<p>35570526 rows × 3 columns</p>\n",
       "</div>"
      ],
      "text/plain": [
       "                         Source                  Target  Weight\n",
       "0         democraticrepublicans           lewisandclark       1\n",
       "1         democraticrepublicans               johnadams       1\n",
       "2         democraticrepublicans            apgovernment       1\n",
       "3         democraticrepublicans          usconstitution       1\n",
       "4         democraticrepublicans          barbarypirates       1\n",
       "...                         ...                     ...     ...\n",
       "35570521                 iuictv             iuicnigeria       1\n",
       "35570522                  面白い動画                    lion       1\n",
       "35570523            coolartwork                    lion       2\n",
       "35570524           bridalmakeup  fridayfashionfreestyle       1\n",
       "35570525          mediterranean        expeditioncruise       1\n",
       "\n",
       "[35570526 rows x 3 columns]"
      ]
     },
     "execution_count": 4,
     "metadata": {},
     "output_type": "execute_result"
    }
   ],
   "source": [
    "unipartite"
   ]
  },
  {
   "cell_type": "code",
   "execution_count": 5,
   "metadata": {},
   "outputs": [
    {
     "name": "stdout",
     "output_type": "stream",
     "text": [
      "Total unique nodes: 673090\n"
     ]
    }
   ],
   "source": [
    "unique_nodes = pd.unique(pd.concat([unipartite['Source'], unipartite['Target']])).size\n",
    "print(f\"Total unique nodes: {unique_nodes}\")\n"
   ]
  },
  {
   "cell_type": "code",
   "execution_count": 7,
   "metadata": {},
   "outputs": [
    {
     "name": "stdout",
     "output_type": "stream",
     "text": [
      "Max weight: 47946\n"
     ]
    }
   ],
   "source": [
    "max_weight = unipartite['Weight'].max()\n",
    "print(f\"Max weight: {max_weight}\")\n"
   ]
  },
  {
   "cell_type": "code",
   "execution_count": 11,
   "metadata": {},
   "outputs": [
    {
     "name": "stdout",
     "output_type": "stream",
     "text": [
      "Number of entries with weight=1: 24597785\n"
     ]
    }
   ],
   "source": [
    "count_weight_1 = unipartite[unipartite['Weight'] == 1].shape[0]\n",
    "print(f\"Number of entries with weight=1: {count_weight_1}\")\n"
   ]
  },
  {
   "cell_type": "code",
   "execution_count": 13,
   "metadata": {},
   "outputs": [
    {
     "data": {
      "image/png": "[encoded data removed]",
      "text/plain": [
       "<Figure size 800x600 with 1 Axes>"
      ]
     },
     "metadata": {},
     "output_type": "display_data"
    }
   ],
   "source": [
    "\n",
    "weights = unipartite['Weight']\n",
    "\n",
    "# Sort weights in ascending order\n",
    "sorted_weights = np.sort(weights)\n",
    "\n",
    "# Calculate CCDF: proportion of weights >= each value\n",
    "ccdf = 1.0 - np.arange(1, len(sorted_weights) + 1) / len(sorted_weights)\n",
    "\n",
    "# Plot\n",
    "plt.figure(figsize=(8, 6))\n",
    "plt.plot(sorted_weights, ccdf, marker='.', linestyle='none')\n",
    "plt.xlabel('Weight')\n",
    "plt.ylabel('CCDF (P(Weight ≥ x))')\n",
    "plt.title('CCDF of Weight Distribution')\n",
    "plt.yscale('log')  # Optional: log scale for better visibility if tail is heavy\n",
    "plt.xscale('log')  # Optional: log scale for x if weight has a wide range\n",
    "plt.grid(True)\n",
    "plt.show()\n"
   ]
  },
  {
   "cell_type": "code",
   "execution_count": null,
   "metadata": {},
   "outputs": [
    {
     "name": "stdout",
     "output_type": "stream",
     "text": [
      "Alpha: 2.941328551286547\n",
      "Xmin: 1.0\n"
     ]
    },
    {
     "name": "stderr",
     "output_type": "stream",
     "text": [
      "/Users/renatasapeta/anaconda3/lib/python3.11/site-packages/powerlaw.py:1615: RuntimeWarning: invalid value encountered in divide\n",
      "  CDF = CDF/norm\n",
      "'nan' in fit cumulative distribution values.\n",
      "Likely underflow or overflow error: the optimal fit for this distribution gives values that are so extreme that we lack the numerical precision to calculate them.\n"
     ]
    },
    {
     "name": "stdout",
     "output_type": "stream",
     "text": [
      "power law vs lognormal: R = 34296.196, p = 0.0\n",
      "power law vs exponential: R = 56529196.218, p = 0.0\n"
     ]
    },
    {
     "name": "stderr",
     "output_type": "stream",
     "text": [
      "Assuming nested distributions\n"
     ]
    },
    {
     "name": "stdout",
     "output_type": "stream",
     "text": [
      "power law vs truncated_power_law: R = 0.024, p = 0.825\n",
      "power law vs stretched_exponential: R = 2671318.95, p = 0.0\n",
      "power law vs lognormal_positive: R = 18001915.916, p = 0.0\n"
     ]
    }
   ],
   "source": [
    "#this runs for a long time\n",
    "\n",
    "weights = unipartite['Weight']\n",
    "\n",
    "# Fit the power law model\n",
    "fit = powerlaw.Fit(weights, xmin=np.min(weights))\n",
    "\n",
    "# Get the alpha (power law exponent) and the minimum value from where the power law holds\n",
    "print(f\"Alpha: {fit.alpha}\")\n",
    "print(f\"Xmin: {fit.xmin}\")\n",
    "\n",
    "# Compare power law against other distributions\n",
    "distribution_list = ['lognormal', 'exponential', 'truncated_power_law', \n",
    "      'stretched_exponential', 'lognormal_positive']\n",
    "\n",
    "for distribution in distribution_list:\n",
    "    R, p = fit.distribution_compare('power_law', distribution) #A positive R implies the Power Law is a better fit, while a negative R implies the alternative distribution is better.\n",
    "    print(\"power law vs \" + distribution + \n",
    "          \": R = \" + str(np.round(R,3)) + \n",
    "          \", p = \" + str(np.round(p,3)))\n",
    "    \n",
    "# power law vs lognormal: R = 34296.196, p = 0.0\n",
    "# power law vs exponential: R = 56529196.218, p = 0.0\n",
    "# Assuming nested distributions\n",
    "# power law vs truncated_power_law: R = 0.024, p = 0.825\n",
    "# power law vs stretched_exponential: R = 2671318.95, p = 0.0\n",
    "# power law vs lognormal_positive: R = 18001915.916, p = 0.0"
   ]
  },
  {
   "cell_type": "code",
   "execution_count": null,
   "metadata": {},
   "outputs": [],
   "source": [
    "G = nx.Graph()\n",
    "with open('../shared-folder-gald/data/graph.pkl', 'rb') as f:\n",
    "    G = pkl.load(f)"
   ]
  },
  {
   "cell_type": "code",
   "execution_count": 14,
   "metadata": {},
   "outputs": [],
   "source": [
    "largest_component = max(nx.connected_components(G), key=len)"
   ]
  },
  {
   "cell_type": "code",
   "execution_count": null,
   "metadata": {},
   "outputs": [],
   "source": [
    "#runs for a long time\n",
    "\n",
    "GCC = G.subgraph(largest_component).copy()"
   ]
  },
  {
   "cell_type": "code",
   "execution_count": 16,
   "metadata": {},
   "outputs": [
    {
     "data": {
      "text/plain": [
       "671514"
      ]
     },
     "execution_count": 16,
     "metadata": {},
     "output_type": "execute_result"
    }
   ],
   "source": [
    "GCC.number_of_nodes()"
   ]
  },
  {
   "cell_type": "code",
   "execution_count": 17,
   "metadata": {},
   "outputs": [
    {
     "data": {
      "text/plain": [
       "0.00015775118521048348"
      ]
     },
     "execution_count": 17,
     "metadata": {},
     "output_type": "execute_result"
    }
   ],
   "source": [
    "nx.density(GCC)"
   ]
  },
  {
   "cell_type": "code",
   "execution_count": 18,
   "metadata": {},
   "outputs": [
    {
     "name": "stdout",
     "output_type": "stream",
     "text": [
      "K-core with k=5: 641826 nodes, 35479844 edges\n"
     ]
    }
   ],
   "source": [
    "# Start with an initial k-value and increase to reduce network size\n",
    "k = 5  # We want to show let's say 5 related hashtags \n",
    "G_k_core = nx.k_core(GCC, k=k)\n",
    "\n",
    "print(f\"K-core with k={k}: {G_k_core.number_of_nodes()} nodes, {G_k_core.number_of_edges()} edges\")\n"
   ]
  },
  {
   "cell_type": "code",
   "execution_count": 19,
   "metadata": {},
   "outputs": [
    {
     "data": {
      "text/plain": [
       "0.00017225734996768945"
      ]
     },
     "execution_count": 19,
     "metadata": {},
     "output_type": "execute_result"
    }
   ],
   "source": [
    "nx.density(G_k_core)"
   ]
  },
  {
   "cell_type": "code",
   "execution_count": null,
   "metadata": {},
   "outputs": [],
   "source": [
    "# with open(\"k_core.pkl\", \"wb\") as f:\n",
    "#     pkl.dump(G_k_core, f)"
   ]
  },
  {
   "cell_type": "code",
   "execution_count": 2,
   "metadata": {},
   "outputs": [],
   "source": [
    "with open(\"k_core.pkl\", \"rb\") as f:\n",
    "    G_k_core = pkl.load(f)"
   ]
  },
  {
   "cell_type": "code",
   "execution_count": 24,
   "metadata": {},
   "outputs": [
    {
     "name": "stdout",
     "output_type": "stream",
     "text": [
      "Collecting python-louvain\n",
      "  Downloading python-louvain-0.16.tar.gz (204 kB)\n",
      "\u001b[2K     \u001b[90m━━━━━━━━━━━━━━━━━━━━━━━━━━━━━━━━━━━━━━━\u001b[0m \u001b[32m204.6/204.6 kB\u001b[0m \u001b[31m7.8 MB/s\u001b[0m eta \u001b[36m0:00:00\u001b[0m\n",
      "\u001b[?25h  Preparing metadata (setup.py) ... \u001b[?25ldone\n",
      "\u001b[?25hRequirement already satisfied: networkx in /Users/renatasapeta/anaconda3/lib/python3.11/site-packages (from python-louvain) (3.3)\n",
      "Requirement already satisfied: numpy in /Users/renatasapeta/anaconda3/lib/python3.11/site-packages (from python-louvain) (1.24.3)\n",
      "Building wheels for collected packages: python-louvain\n",
      "  Building wheel for python-louvain (setup.py) ... \u001b[?25ldone\n",
      "\u001b[?25h  Created wheel for python-louvain: filename=python_louvain-0.16-py3-none-any.whl size=9389 sha256=c11bd1a4b17453e7726b53d48811cd180c0834de20a5f57f7a6c246499d97319\n",
      "  Stored in directory: /Users/renatasapeta/Library/Caches/pip/wheels/11/c1/e7/f62a211c636275e2da798bf0c307a3ae79aeddaf2524a03ce4\n",
      "Successfully built python-louvain\n",
      "Installing collected packages: python-louvain\n",
      "Successfully installed python-louvain-0.16\n",
      "Note: you may need to restart the kernel to use updated packages.\n"
     ]
    }
   ],
   "source": [
    "pip install python-louvain\n"
   ]
  },
  {
   "cell_type": "code",
   "execution_count": 3,
   "metadata": {},
   "outputs": [
    {
     "ename": "NameError",
     "evalue": "name 'G' is not defined",
     "output_type": "error",
     "traceback": [
      "\u001b[0;31m---------------------------------------------------------------------------\u001b[0m",
      "\u001b[0;31mNameError\u001b[0m                                 Traceback (most recent call last)",
      "Cell \u001b[0;32mIn[3], line 34\u001b[0m\n\u001b[1;32m     31\u001b[0m         \u001b[38;5;28;01mbreak\u001b[39;00m\n\u001b[1;32m     33\u001b[0m \u001b[38;5;66;03m# Create the subgraph with the selected nodes\u001b[39;00m\n\u001b[0;32m---> 34\u001b[0m G_reduced \u001b[38;5;241m=\u001b[39m G\u001b[38;5;241m.\u001b[39msubgraph(selected_nodes)\u001b[38;5;241m.\u001b[39mcopy()\n\u001b[1;32m     36\u001b[0m \u001b[38;5;28mprint\u001b[39m(\u001b[38;5;124mf\u001b[39m\u001b[38;5;124m\"\u001b[39m\u001b[38;5;124mReduced network: \u001b[39m\u001b[38;5;132;01m{\u001b[39;00mG_reduced\u001b[38;5;241m.\u001b[39mnumber_of_nodes()\u001b[38;5;132;01m}\u001b[39;00m\u001b[38;5;124m nodes, \u001b[39m\u001b[38;5;132;01m{\u001b[39;00mG_reduced\u001b[38;5;241m.\u001b[39mnumber_of_edges()\u001b[38;5;132;01m}\u001b[39;00m\u001b[38;5;124m edges\u001b[39m\u001b[38;5;124m\"\u001b[39m)\n",
      "\u001b[0;31mNameError\u001b[0m: name 'G' is not defined"
     ]
    }
   ],
   "source": [
    "\n",
    "\n",
    "# Detect communities\n",
    "partition = community_louvain.best_partition(G_k_core)\n",
    "\n",
    "# Count nodes per community\n",
    "community_sizes = Counter(partition.values())\n",
    "\n",
    "# Compute total number of nodes in the graph\n",
    "total_nodes = len(G_k_core.nodes())\n",
    "\n",
    "# Target number of nodes\n",
    "target_nodes = 190000\n",
    "\n",
    "# Calculate the fraction of nodes to keep based on the target size\n",
    "sampling_fraction = target_nodes / total_nodes\n",
    "\n",
    "# Select nodes based on fraction from each community\n",
    "selected_nodes = set()\n",
    "\n",
    "for com, size in community_sizes.items():\n",
    "    # Get all nodes in the current community\n",
    "    community_nodes = [node for node, comm in partition.items() if comm == com]\n",
    "    \n",
    "    # Calculate number of nodes to select from this community\n",
    "    num_to_select = int(len(community_nodes) * sampling_fraction)\n",
    "    \n",
    "    # Randomly sample nodes from the community\n",
    "    selected_nodes.update(random.sample(community_nodes, num_to_select))\n",
    "    \n",
    "    # Stop when we reach the target number of nodes\n",
    "    if len(selected_nodes) >= target_nodes:\n",
    "        break\n",
    "\n",
    "# Create the subgraph with the selected nodes\n",
    "G_reduced = G.subgraph(selected_nodes).copy()\n",
    "\n",
    "print(f\"Reduced network: {G_reduced.number_of_nodes()} nodes, {G_reduced.number_of_edges()} edges\")\n"
   ]
  },
  {
   "cell_type": "code",
   "execution_count": 4,
   "metadata": {},
   "outputs": [
    {
     "name": "stdout",
     "output_type": "stream",
     "text": [
      "Reduced network: 189958 nodes, 3043510 edges\n"
     ]
    }
   ],
   "source": [
    "# Create the subgraph with the selected nodes\n",
    "G_reduced = G_k_core.subgraph(selected_nodes).copy()\n",
    "\n",
    "print(f\"Reduced network: {G_reduced.number_of_nodes()} nodes, {G_reduced.number_of_edges()} edges\")"
   ]
  },
  {
   "cell_type": "code",
   "execution_count": null,
   "metadata": {},
   "outputs": [],
   "source": [
    "# with open(\"G_reduced.pkl\", \"wb\") as f:\n",
    "#     pkl.dump(G_reduced, f)"
   ]
  }
 ],
 "metadata": {
  "kernelspec": {
   "display_name": "base",
   "language": "python",
   "name": "python3"
  },
  "language_info": {
   "codemirror_mode": {
    "name": "ipython",
    "version": 3
   },
   "file_extension": ".py",
   "mimetype": "text/x-python",
   "name": "python",
   "nbconvert_exporter": "python",
   "pygments_lexer": "ipython3",
   "version": "3.11.4"
  }
 },
 "nbformat": 4,
 "nbformat_minor": 2
}
