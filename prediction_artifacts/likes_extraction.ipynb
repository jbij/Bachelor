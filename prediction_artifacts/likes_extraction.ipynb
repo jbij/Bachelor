{
 "cells": [
  {
   "cell_type": "code",
   "execution_count": 125,
   "metadata": {},
   "outputs": [],
   "source": [
    "import json\n",
    "import pandas as pd\n",
    "import requests\n",
    "import pickle"
   ]
  },
  {
   "cell_type": "code",
   "execution_count": 126,
   "metadata": {},
   "outputs": [],
   "source": [
    "follows = pd.read_csv('../../shared-folder-gald/data/follow-link.csv')"
   ]
  },
  {
   "cell_type": "code",
   "execution_count": 127,
   "metadata": {},
   "outputs": [],
   "source": [
    "# users = pd.read_csv('../../shared-folder-gald/data/user_info_ALL.p')\n",
    "\n",
    "with open('../../shared-folder-gald/data/user_info_ALL.p', 'rb') as f:\n",
    "    users = pickle.load(f)"
   ]
  },
  {
   "cell_type": "code",
   "execution_count": 128,
   "metadata": {},
   "outputs": [],
   "source": [
    "prev_users = pd.read_csv('../data/liked_videos.csv')"
   ]
  },
  {
   "cell_type": "code",
   "execution_count": 129,
   "metadata": {},
   "outputs": [],
   "source": [
    "usernames = list(users.keys())"
   ]
  },
  {
   "cell_type": "code",
   "execution_count": 130,
   "metadata": {},
   "outputs": [],
   "source": [
    "# Get the set of usernames in prev_users\n",
    "prev_usernames = set(prev_users['username'])\n",
    "\n",
    "# Remove existing usernames from the full list\n",
    "usernames = [user for user in usernames if user not in prev_usernames]"
   ]
  },
  {
   "cell_type": "code",
   "execution_count": 131,
   "metadata": {},
   "outputs": [],
   "source": [
    "with open(\"../../shared-folder-gald/keys2.txt\") as f:\n",
    "    lines = f.readlines()\n",
    "    client_key = lines[0].strip()\n",
    "    client_secret = lines[1].strip()"
   ]
  },
  {
   "cell_type": "code",
   "execution_count": 132,
   "metadata": {},
   "outputs": [],
   "source": [
    "def get_access_token(client_key, client_secret):\n",
    "    # Endpoint URL\n",
    "    endpoint_url = \"https://open.tiktokapis.com/v2/oauth/token/\"\n",
    "\n",
    "    # Request headers\n",
    "    headers = {\n",
    "        'Content-Type': 'application/x-www-form-urlencoded',\n",
    "    }\n",
    "\n",
    "    # Request body parameters\n",
    "    data = {\n",
    "        'client_key': client_key,\n",
    "        'client_secret': client_secret,\n",
    "        'grant_type': 'client_credentials',\n",
    "    }\n",
    "\n",
    "    # Make the POST request\n",
    "    response = requests.post(endpoint_url, headers=headers, data=data)\n",
    "\n",
    "    # Check if the request was successful (status code 200)\n",
    "    if response.status_code == 200:\n",
    "        # Parse and print the response JSON\n",
    "        response_json = response.json()\n",
    "        return response_json['access_token']\n",
    "    else:\n",
    "        # If the request was not successful, print the error response JSON\n",
    "        \n",
    "        return response.json()"
   ]
  },
  {
   "cell_type": "code",
   "execution_count": 133,
   "metadata": {},
   "outputs": [],
   "source": [
    "# def get_access_token(client_key, client_secret):\n",
    "#     endpoint_url = \"https://open.tiktokapis.com/v2/oauth/token/\"\n",
    "#     headers = {'Content-Type': 'application/x-www-form-urlencoded'}\n",
    "#     data = {\n",
    "#         'client_key': client_key,\n",
    "#         'client_secret': client_secret,\n",
    "#         'grant_type': 'client_credentials',\n",
    "#     }\n",
    "\n",
    "#     response = requests.post(endpoint_url, headers=headers, data=data)\n",
    "#     response_json = response.json()\n",
    "\n",
    "#     if response.status_code == 200:\n",
    "#         print(response_json)  # Debugging print\n",
    "#         return response_json.get('access_token', 'No access token found')\n",
    "#     else:\n",
    "#         print(f\"Error {response.status_code}: {response_json}\")  # Debugging print\n",
    "#         return response_json"
   ]
  },
  {
   "cell_type": "code",
   "execution_count": 134,
   "metadata": {},
   "outputs": [],
   "source": [
    "def get_liked_info(username, access_token,fields =\"id, username\" ):\n",
    "    query_params = {\"fields\": fields}\n",
    "    query_body = {\"username\": username}\n",
    "    headers = {\"Authorization\": f\"Bearer {access_token}\"}\n",
    "    \n",
    "    endpoint = \"https://open.tiktokapis.com/v2/research/user/liked_videos/\"\n",
    "    response = requests.post(endpoint, json=query_body, params=query_params, headers=headers)\n",
    "\n",
    "    if response.status_code == 200:\n",
    "        # Parse and extract information from the response\n",
    "        return response.json().get(\"data\", {})\n",
    "    else:\n",
    "        \n",
    "        return {response.text}"
   ]
  },
  {
   "cell_type": "code",
   "execution_count": 135,
   "metadata": {},
   "outputs": [],
   "source": [
    "access_token = get_access_token(client_key, client_secret)"
   ]
  },
  {
   "cell_type": "markdown",
   "metadata": {},
   "source": [
    "Ran up until [3003:4004]"
   ]
  },
  {
   "cell_type": "code",
   "execution_count": null,
   "metadata": {},
   "outputs": [],
   "source": [
    "liked_videos = []\n",
    "for username in usernames[4004:5005]:\n",
    "    liked_videos.append(get_liked_info(username, access_token))"
   ]
  },
  {
   "cell_type": "code",
   "execution_count": null,
   "metadata": {},
   "outputs": [],
   "source": [
    "combined = {}\n",
    "for i, username in enumerate(usernames[4004:5005]):\n",
    "    combined[username] = liked_videos[i]"
   ]
  },
  {
   "cell_type": "code",
   "execution_count": 138,
   "metadata": {},
   "outputs": [
    {
     "name": "stdout",
     "output_type": "stream",
     "text": [
      "                 username                   id               creator\n",
      "0              mscat2u517  7489983072725765406       booktokqutiepie\n",
      "1              mscat2u517  7490063219403296031     elysiawagesauthor\n",
      "2              mscat2u517  7489531769813781802       thebetterboxllc\n",
      "3              mscat2u517  7490017982635117855            dandkbooks\n",
      "4              mscat2u517  7489963891238292782        stacey.l.pagan\n",
      "..                    ...                  ...                   ...\n",
      "259  couponingwithchantal  7486867598123044126    tc.roots.creations\n",
      "260  couponingwithchantal  7485844794791578911      savingwithshayna\n",
      "261  couponingwithchantal  7486580978987650335       _alext_latonyat\n",
      "262  couponingwithchantal  7485901028852911390    tc.roots.creations\n",
      "263  couponingwithchantal  7485493928599358751  couponingwithchantal\n",
      "\n",
      "[264 rows x 3 columns]\n"
     ]
    }
   ],
   "source": [
    "rows = []\n",
    "\n",
    "for key, value in combined.items():\n",
    "    if value and 'user_liked_videos' in value:  # Ensure key has data\n",
    "        for video in value['user_liked_videos']:\n",
    "            rows.append({\n",
    "                'username': key,  # Dictionary key\n",
    "                'id': video['id'],  # Video ID\n",
    "                'creator': video['username']  # Video username\n",
    "            })\n",
    "\n",
    "# Create DataFrame\n",
    "likes_df = pd.DataFrame(rows)\n",
    "\n",
    "# Display DataFrame\n",
    "print(likes_df)"
   ]
  },
  {
   "cell_type": "code",
   "execution_count": 139,
   "metadata": {},
   "outputs": [],
   "source": [
    "likes_df.to_csv(\"../../shared-folder-gald/data/liked_videos.csv\", mode=\"a\", index=False, header=False)"
   ]
  },
  {
   "cell_type": "code",
   "execution_count": 140,
   "metadata": {},
   "outputs": [],
   "source": [
    "likes = pd.read_csv(\"../../shared-folder-gald/data/liked_videos.csv\")"
   ]
  },
  {
   "cell_type": "code",
   "execution_count": 141,
   "metadata": {},
   "outputs": [
    {
     "data": {
      "text/plain": [
       "1018"
      ]
     },
     "execution_count": 141,
     "metadata": {},
     "output_type": "execute_result"
    }
   ],
   "source": [
    "likes['username'].nunique()"
   ]
  }
 ],
 "metadata": {
  "kernelspec": {
   "display_name": "base",
   "language": "python",
   "name": "python3"
  },
  "language_info": {
   "codemirror_mode": {
    "name": "ipython",
    "version": 3
   },
   "file_extension": ".py",
   "mimetype": "text/x-python",
   "name": "python",
   "nbconvert_exporter": "python",
   "pygments_lexer": "ipython3",
   "version": "3.11.4"
  }
 },
 "nbformat": 4,
 "nbformat_minor": 2
}
