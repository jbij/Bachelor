{
 "cells": [
  {
   "cell_type": "markdown",
   "metadata": {},
   "source": [
    "# File Description: repost_extraction_new.ipynb\n",
    "\n",
    "This file is responsible for extracting and processing repost data, likely from a dataset or an external source. It is part of the data collection phase of the project and focuses on mapping usernames to their corresponding reposted videos.\n",
    "\n",
    "## Purpose\n",
    "This notebook is designed to:\n",
    "1. Iterate through a subset of usernames and their associated reposted videos.\n",
    "2. Combine the data into a dictionary where each username is mapped to their reposted videos.\n",
    "3. Prepare the data for further analysis or storage.\n",
    "\n",
    "## Key Workflow\n",
    "1. **Data Subsetting**: Processes a specific range of usernames (e.g., `usernames[14009:15009]`) and their corresponding reposted videos.\n",
    "2. **Data Mapping**: Constructs a dictionary (`combined`) where keys are usernames and values are lists of reposted videos.\n",
    "3. **Output**: The resulting dictionary is ready for further use, such as saving, analysis, or integration with other datasets."
   ]
  },
  {
   "cell_type": "code",
   "execution_count": null,
   "metadata": {},
   "outputs": [],
   "source": [
    "import pandas as pd\n",
    "import requests"
   ]
  },
  {
   "cell_type": "code",
   "execution_count": 16,
   "metadata": {},
   "outputs": [],
   "source": [
    "def get_access_token(client_key, client_secret):\n",
    "    # Endpoint URL\n",
    "    endpoint_url = \"https://open.tiktokapis.com/v2/oauth/token/\"\n",
    "\n",
    "    # Request headers\n",
    "    headers = {\n",
    "        'Content-Type': 'application/x-www-form-urlencoded',\n",
    "    }\n",
    "\n",
    "    # Request body parameters\n",
    "    data = {\n",
    "        'client_key': client_key,\n",
    "        'client_secret': client_secret,\n",
    "        'grant_type': 'client_credentials',\n",
    "    }\n",
    "\n",
    "    # Make the POST request\n",
    "    response = requests.post(endpoint_url, headers=headers, data=data)\n",
    "\n",
    "    # Check if the request was successful (status code 200)\n",
    "    if response.status_code == 200:\n",
    "        # Parse and print the response JSON\n",
    "        response_json = response.json()\n",
    "        return response_json['access_token']\n",
    "    else:\n",
    "        # If the request was not successful, print the error response JSON\n",
    "        \n",
    "        return response.json()"
   ]
  },
  {
   "cell_type": "code",
   "execution_count": 18,
   "metadata": {},
   "outputs": [],
   "source": [
    "def get_repost_info(username, access_token,fields =\"id, username, favorites_count\" ):\n",
    "    query_params = {\"fields\": fields}\n",
    "    query_body = {\"username\": username}\n",
    "    headers = {\"Authorization\": f\"Bearer {access_token}\"}\n",
    "    \n",
    "    endpoint = \"https://open.tiktokapis.com/v2/research/user/reposted_videos/\"\n",
    "    response = requests.post(endpoint, json=query_body, params=query_params, headers=headers)\n",
    "\n",
    "    if response.status_code == 200:\n",
    "        # Parse and extract information from the response\n",
    "        return response.json().get(\"data\", {})\n",
    "    else:\n",
    "        \n",
    "        return {response.text}"
   ]
  },
  {
   "cell_type": "code",
   "execution_count": 2,
   "metadata": {},
   "outputs": [],
   "source": [
    "follows = pd.read_csv('../shared-folder-gald/data/follow-link.csv')"
   ]
  },
  {
   "cell_type": "code",
   "execution_count": 3,
   "metadata": {},
   "outputs": [],
   "source": [
    "usernames = pd.unique(follows[['source', 'target']].values.ravel()).tolist()"
   ]
  },
  {
   "cell_type": "code",
   "execution_count": 15,
   "metadata": {},
   "outputs": [],
   "source": [
    "with open(\"../shared-folder-gald/keys2.txt\") as f:\n",
    "    lines = f.readlines()\n",
    "    client_key = lines[0].strip()\n",
    "    client_secret = lines[1].strip()"
   ]
  },
  {
   "cell_type": "code",
   "execution_count": 19,
   "metadata": {},
   "outputs": [],
   "source": [
    "access_token = get_access_token(client_key, client_secret)"
   ]
  },
  {
   "cell_type": "markdown",
   "metadata": {},
   "source": [
    "keeping track with calls\n",
    "27.02 - we ran keys2 unril 1000 \n",
    "\n",
    "1.03 - keys2 1001:2002\n",
    "\n",
    "1.03 - keys1 2002:3003\n",
    "\n",
    "2.03 - keys1 3003:4004\n",
    "\n",
    "2.03 - keys2 4004:5005\n",
    "\n",
    "3.03 - keys1 5005:6006\n",
    "\n",
    "3.03 - keys2 6006:7007\n",
    "\n",
    "4.03 - keys1 7007:8008\n",
    "\n",
    "4.03 - keys2 8008:9009\n",
    "\n",
    "5.03 - keys1 9009:10009\n",
    "\n",
    "5.03 - keys2 10009:11009\n",
    "\n",
    "6.03 - keys1 11009:12009\n",
    "\n",
    "6.03 - keys2 12009:13009\n",
    "\n",
    "11.03 - keys1 13009:14009\n",
    "\n",
    "11.03 - keys2 14009:15009"
   ]
  },
  {
   "cell_type": "code",
   "execution_count": 20,
   "metadata": {},
   "outputs": [],
   "source": [
    "reposted_videos = []\n",
    "for username in usernames[14009:15009]:\n",
    "    reposted_videos.append(get_repost_info(username, access_token))"
   ]
  },
  {
   "cell_type": "code",
   "execution_count": 21,
   "metadata": {},
   "outputs": [
    {
     "data": {
      "text/plain": [
       "[]"
      ]
     },
     "execution_count": 21,
     "metadata": {},
     "output_type": "execute_result"
    }
   ],
   "source": [
    "reposted_videos"
   ]
  },
  {
   "cell_type": "code",
   "execution_count": 23,
   "metadata": {},
   "outputs": [
    {
     "data": {
      "text/plain": [
       "{}"
      ]
     },
     "execution_count": 23,
     "metadata": {},
     "output_type": "execute_result"
    }
   ],
   "source": [
    "combined = {}\n",
    "for i, username in enumerate(usernames[14009:15009]):\n",
    "    combined[username] = reposted_videos[i]\n",
    "    \n",
    "combined \n"
   ]
  },
  {
   "cell_type": "code",
   "execution_count": null,
   "metadata": {},
   "outputs": [
    {
     "name": "stdout",
     "output_type": "stream",
     "text": [
      "Empty DataFrame\n",
      "Columns: []\n",
      "Index: []\n"
     ]
    }
   ],
   "source": [
    "rows = []\n",
    "\n",
    "for key, value in combined.items():\n",
    "    if value and 'reposted_videos' in value: \n",
    "        for video in value['reposted_videos']:\n",
    "            rows.append({\n",
    "                'username': key,  \n",
    "                'video_id': video['id'], \n",
    "                'creator': video['username'], \n",
    "                'favourites': video[\"favorites_count\"]\n",
    "            })\n",
    "\n",
    "reposted_df = pd.DataFrame(rows)\n",
    "\n",
    "print(reposted_df)"
   ]
  },
  {
   "cell_type": "code",
   "execution_count": 25,
   "metadata": {},
   "outputs": [],
   "source": [
    "reposted_df.to_csv(\"reposted_videos.csv\", mode=\"a\", index=False, header=False)"
   ]
  }
 ],
 "metadata": {
  "kernelspec": {
   "display_name": "Python 3",
   "language": "python",
   "name": "python3"
  },
  "language_info": {
   "codemirror_mode": {
    "name": "ipython",
    "version": 3
   },
   "file_extension": ".py",
   "mimetype": "text/x-python",
   "name": "python",
   "nbconvert_exporter": "python",
   "pygments_lexer": "ipython3",
   "version": "3.11.7"
  }
 },
 "nbformat": 4,
 "nbformat_minor": 2
}
