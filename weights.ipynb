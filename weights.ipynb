{
 "cells": [
  {
   "cell_type": "code",
   "execution_count": 19,
   "metadata": {},
   "outputs": [],
   "source": [
    "import pandas as pd\n",
    "import networkx as nx"
   ]
  },
  {
   "cell_type": "code",
   "execution_count": 2,
   "metadata": {},
   "outputs": [],
   "source": [
    "duet_stitch = pd.read_csv('duet_stitch.csv')"
   ]
  },
  {
   "cell_type": "code",
   "execution_count": 24,
   "metadata": {},
   "outputs": [],
   "source": [
    "likes = pd.read_csv('liked_videos.csv', index_col=False)"
   ]
  },
  {
   "cell_type": "code",
   "execution_count": 4,
   "metadata": {},
   "outputs": [],
   "source": [
    "follows = pd.read_csv('../shared-folder-gald/data/follow-link.csv')"
   ]
  },
  {
   "cell_type": "code",
   "execution_count": 5,
   "metadata": {},
   "outputs": [],
   "source": [
    "videos = pd.read_json('../shared-folder-gald/data/video-creators.json')"
   ]
  },
  {
   "cell_type": "code",
   "execution_count": 6,
   "metadata": {},
   "outputs": [],
   "source": [
    "#Remove rows where the creator makes stitch/duet with themselves\n",
    "filtered_duet_stitch = duet_stitch[duet_stitch['username'] != duet_stitch['creator']]"
   ]
  },
  {
   "cell_type": "code",
   "execution_count": 10,
   "metadata": {},
   "outputs": [],
   "source": [
    "weight_duets = 1/len(duet_stitch)"
   ]
  },
  {
   "cell_type": "code",
   "execution_count": 14,
   "metadata": {},
   "outputs": [],
   "source": [
    "weight_likes = 1/videos['like_count'].sum()"
   ]
  },
  {
   "cell_type": "code",
   "execution_count": 25,
   "metadata": {},
   "outputs": [
    {
     "data": {
      "text/html": [
       "<div>\n",
       "<style scoped>\n",
       "    .dataframe tbody tr th:only-of-type {\n",
       "        vertical-align: middle;\n",
       "    }\n",
       "\n",
       "    .dataframe tbody tr th {\n",
       "        vertical-align: top;\n",
       "    }\n",
       "\n",
       "    .dataframe thead th {\n",
       "        text-align: right;\n",
       "    }\n",
       "</style>\n",
       "<table border=\"1\" class=\"dataframe\">\n",
       "  <thead>\n",
       "    <tr style=\"text-align: right;\">\n",
       "      <th></th>\n",
       "      <th>username</th>\n",
       "      <th>video_id</th>\n",
       "      <th>creator</th>\n",
       "    </tr>\n",
       "  </thead>\n",
       "  <tbody>\n",
       "    <tr>\n",
       "      <th>0</th>\n",
       "      <td>bbcnews</td>\n",
       "      <td>7421594306210696481</td>\n",
       "      <td>taliamaizels</td>\n",
       "    </tr>\n",
       "    <tr>\n",
       "      <th>1</th>\n",
       "      <td>bbcnews</td>\n",
       "      <td>7454572661281262880</td>\n",
       "      <td>bbcnews</td>\n",
       "    </tr>\n",
       "    <tr>\n",
       "      <th>2</th>\n",
       "      <td>bbcnews</td>\n",
       "      <td>7444593083552976161</td>\n",
       "      <td>bbcnews</td>\n",
       "    </tr>\n",
       "    <tr>\n",
       "      <th>3</th>\n",
       "      <td>bbcnews</td>\n",
       "      <td>7381432178942414112</td>\n",
       "      <td>mahmood</td>\n",
       "    </tr>\n",
       "    <tr>\n",
       "      <th>4</th>\n",
       "      <td>bbcnews</td>\n",
       "      <td>7467351767571778858</td>\n",
       "      <td>msnbc</td>\n",
       "    </tr>\n",
       "    <tr>\n",
       "      <th>...</th>\n",
       "      <td>...</td>\n",
       "      <td>...</td>\n",
       "      <td>...</td>\n",
       "    </tr>\n",
       "    <tr>\n",
       "      <th>16473</th>\n",
       "      <td>david_qiru</td>\n",
       "      <td>7475020996420963589</td>\n",
       "      <td>david_qiru</td>\n",
       "    </tr>\n",
       "    <tr>\n",
       "      <th>16474</th>\n",
       "      <td>david_qiru</td>\n",
       "      <td>7470608709488610615</td>\n",
       "      <td>javitoplastilina</td>\n",
       "    </tr>\n",
       "    <tr>\n",
       "      <th>16475</th>\n",
       "      <td>david_qiru</td>\n",
       "      <td>7470777983830084869</td>\n",
       "      <td>javitoplastilina</td>\n",
       "    </tr>\n",
       "    <tr>\n",
       "      <th>16476</th>\n",
       "      <td>david_qiru</td>\n",
       "      <td>7474806259808521478</td>\n",
       "      <td>all_meats_smoked_bbq</td>\n",
       "    </tr>\n",
       "    <tr>\n",
       "      <th>16477</th>\n",
       "      <td>david_qiru</td>\n",
       "      <td>7472467742231104773</td>\n",
       "      <td>javitoplastilina</td>\n",
       "    </tr>\n",
       "  </tbody>\n",
       "</table>\n",
       "<p>16478 rows × 3 columns</p>\n",
       "</div>"
      ],
      "text/plain": [
       "         username             video_id               creator\n",
       "0         bbcnews  7421594306210696481          taliamaizels\n",
       "1         bbcnews  7454572661281262880               bbcnews\n",
       "2         bbcnews  7444593083552976161               bbcnews\n",
       "3         bbcnews  7381432178942414112               mahmood\n",
       "4         bbcnews  7467351767571778858                 msnbc\n",
       "...           ...                  ...                   ...\n",
       "16473  david_qiru  7475020996420963589            david_qiru\n",
       "16474  david_qiru  7470608709488610615      javitoplastilina\n",
       "16475  david_qiru  7470777983830084869      javitoplastilina\n",
       "16476  david_qiru  7474806259808521478  all_meats_smoked_bbq\n",
       "16477  david_qiru  7472467742231104773      javitoplastilina\n",
       "\n",
       "[16478 rows x 3 columns]"
      ]
     },
     "execution_count": 25,
     "metadata": {},
     "output_type": "execute_result"
    }
   ],
   "source": [
    "likes"
   ]
  },
  {
   "cell_type": "code",
   "execution_count": 35,
   "metadata": {},
   "outputs": [],
   "source": [
    "G = nx.Graph()\n",
    "\n",
    "for _, row in likes.iterrows():\n",
    "    G.add_edge(row['username'], row['video_id'], creator=row['creator'], weight = (weight_likes/weight_likes+weight_duets))\n"
   ]
  },
  {
   "cell_type": "code",
   "execution_count": 36,
   "metadata": {},
   "outputs": [],
   "source": [
    "G.remove_edges_from(nx.selfloop_edges(G))"
   ]
  },
  {
   "cell_type": "markdown",
   "metadata": {},
   "source": [
    "If the user duet/stitched the video -> add the normalized weight"
   ]
  },
  {
   "cell_type": "code",
   "execution_count": null,
   "metadata": {},
   "outputs": [
    {
     "data": {
      "text/plain": [
       "0"
      ]
     },
     "execution_count": 34,
     "metadata": {},
     "output_type": "execute_result"
    }
   ],
   "source": []
  }
 ],
 "metadata": {
  "kernelspec": {
   "display_name": "base",
   "language": "python",
   "name": "python3"
  },
  "language_info": {
   "codemirror_mode": {
    "name": "ipython",
    "version": 3
   },
   "file_extension": ".py",
   "mimetype": "text/x-python",
   "name": "python",
   "nbconvert_exporter": "python",
   "pygments_lexer": "ipython3",
   "version": "3.11.4"
  }
 },
 "nbformat": 4,
 "nbformat_minor": 2
}
