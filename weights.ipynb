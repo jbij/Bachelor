{
 "cells": [
  {
   "cell_type": "code",
   "execution_count": 2,
   "metadata": {},
   "outputs": [],
   "source": [
    "import pandas as pd\n",
    "import networkx as nx"
   ]
  },
  {
   "cell_type": "code",
   "execution_count": 3,
   "metadata": {},
   "outputs": [],
   "source": [
    "duet_stitch = pd.read_csv('duet_stitch.csv')"
   ]
  },
  {
   "cell_type": "code",
   "execution_count": 4,
   "metadata": {},
   "outputs": [],
   "source": [
    "likes = pd.read_csv('liked_videos.csv', index_col=False)"
   ]
  },
  {
   "cell_type": "code",
   "execution_count": 6,
   "metadata": {},
   "outputs": [],
   "source": [
    "follows = pd.read_csv('../shared-folder-gald/data/follow-link.csv')"
   ]
  },
  {
   "cell_type": "code",
   "execution_count": 8,
   "metadata": {},
   "outputs": [],
   "source": [
    "videos = pd.read_json('../shared-folder-gald/data/video-creators.json')"
   ]
  },
  {
   "cell_type": "code",
   "execution_count": 9,
   "metadata": {},
   "outputs": [
    {
     "data": {
      "text/html": [
       "<div>\n",
       "<style scoped>\n",
       "    .dataframe tbody tr th:only-of-type {\n",
       "        vertical-align: middle;\n",
       "    }\n",
       "\n",
       "    .dataframe tbody tr th {\n",
       "        vertical-align: top;\n",
       "    }\n",
       "\n",
       "    .dataframe thead th {\n",
       "        text-align: right;\n",
       "    }\n",
       "</style>\n",
       "<table border=\"1\" class=\"dataframe\">\n",
       "  <thead>\n",
       "    <tr style=\"text-align: right;\">\n",
       "      <th></th>\n",
       "      <th>username</th>\n",
       "      <th>video_description</th>\n",
       "      <th>region_code</th>\n",
       "      <th>share_count</th>\n",
       "      <th>hashtag_names</th>\n",
       "      <th>id</th>\n",
       "      <th>like_count</th>\n",
       "      <th>music_id</th>\n",
       "      <th>view_count</th>\n",
       "      <th>voice_to_text</th>\n",
       "      <th>comment_count</th>\n",
       "      <th>create_time</th>\n",
       "      <th>cluster</th>\n",
       "      <th>cluster-label</th>\n",
       "      <th>playlist_id</th>\n",
       "      <th>effect_ids</th>\n",
       "    </tr>\n",
       "  </thead>\n",
       "  <tbody>\n",
       "    <tr>\n",
       "      <th>0</th>\n",
       "      <td>the.animal.holocaust</td>\n",
       "      <td>Replying to @ov10bronco #dominicizrealmyers #v...</td>\n",
       "      <td>US</td>\n",
       "      <td>4</td>\n",
       "      <td>[vegan, yes, bbq, meat, carnivore, govegan, ve...</td>\n",
       "      <td>7274212644502998314</td>\n",
       "      <td>40</td>\n",
       "      <td>7.274213e+18</td>\n",
       "      <td>1054</td>\n",
       "      <td>You say, why torture yourself? Because all we ...</td>\n",
       "      <td>181.0</td>\n",
       "      <td>2023-09-02 13:00:37</td>\n",
       "      <td>10</td>\n",
       "      <td>Healthy Cooking</td>\n",
       "      <td>NaN</td>\n",
       "      <td>NaN</td>\n",
       "    </tr>\n",
       "    <tr>\n",
       "      <th>1</th>\n",
       "      <td>bakemehealthylove</td>\n",
       "      <td>How to make: 1. Get Your Mix: Grab our Oatmeal...</td>\n",
       "      <td>US</td>\n",
       "      <td>4</td>\n",
       "      <td>[wafflemix, waffleday, plantbased, strawberryw...</td>\n",
       "      <td>7271102720256314666</td>\n",
       "      <td>65</td>\n",
       "      <td>7.217848e+18</td>\n",
       "      <td>1087</td>\n",
       "      <td>Happy National Waffle Day we're celebrating wi...</td>\n",
       "      <td>0.0</td>\n",
       "      <td>2023-08-25 03:52:14</td>\n",
       "      <td>10</td>\n",
       "      <td>Healthy Cooking</td>\n",
       "      <td>NaN</td>\n",
       "      <td>NaN</td>\n",
       "    </tr>\n",
       "    <tr>\n",
       "      <th>2</th>\n",
       "      <td>livinapril7</td>\n",
       "      <td>Looking for a healthy #plantbased #protein pac...</td>\n",
       "      <td>US</td>\n",
       "      <td>0</td>\n",
       "      <td>[food, healthy, lunch, health, salad, tasty, o...</td>\n",
       "      <td>7272105378920353054</td>\n",
       "      <td>2</td>\n",
       "      <td>6.705026e+18</td>\n",
       "      <td>271</td>\n",
       "      <td>NaN</td>\n",
       "      <td>0.0</td>\n",
       "      <td>2023-08-27 20:43:20</td>\n",
       "      <td>10</td>\n",
       "      <td>Healthy Cooking</td>\n",
       "      <td>NaN</td>\n",
       "      <td>NaN</td>\n",
       "    </tr>\n",
       "    <tr>\n",
       "      <th>3</th>\n",
       "      <td>goodvibessocietyofficial</td>\n",
       "      <td>Pull up to Sprouts, grab those good vibes bott...</td>\n",
       "      <td>US</td>\n",
       "      <td>0</td>\n",
       "      <td>[drinks, weekendvibes, sprouts, plantbased, su...</td>\n",
       "      <td>7271427012529524011</td>\n",
       "      <td>31</td>\n",
       "      <td>7.271427e+18</td>\n",
       "      <td>372</td>\n",
       "      <td>NaN</td>\n",
       "      <td>2.0</td>\n",
       "      <td>2023-08-26 00:50:41</td>\n",
       "      <td>-1</td>\n",
       "      <td>Outliers</td>\n",
       "      <td>NaN</td>\n",
       "      <td>NaN</td>\n",
       "    </tr>\n",
       "    <tr>\n",
       "      <th>4</th>\n",
       "      <td>settonfarms</td>\n",
       "      <td>At Setton Farms, we are committed to sustainab...</td>\n",
       "      <td>US</td>\n",
       "      <td>1</td>\n",
       "      <td>[nuts, recipe, farm, farmlife, harvest, pistac...</td>\n",
       "      <td>7273980908565433646</td>\n",
       "      <td>120</td>\n",
       "      <td>7.133309e+18</td>\n",
       "      <td>7031</td>\n",
       "      <td>NaN</td>\n",
       "      <td>2.0</td>\n",
       "      <td>2023-09-01 22:01:08</td>\n",
       "      <td>8</td>\n",
       "      <td>Gardening</td>\n",
       "      <td>NaN</td>\n",
       "      <td>NaN</td>\n",
       "    </tr>\n",
       "    <tr>\n",
       "      <th>...</th>\n",
       "      <td>...</td>\n",
       "      <td>...</td>\n",
       "      <td>...</td>\n",
       "      <td>...</td>\n",
       "      <td>...</td>\n",
       "      <td>...</td>\n",
       "      <td>...</td>\n",
       "      <td>...</td>\n",
       "      <td>...</td>\n",
       "      <td>...</td>\n",
       "      <td>...</td>\n",
       "      <td>...</td>\n",
       "      <td>...</td>\n",
       "      <td>...</td>\n",
       "      <td>...</td>\n",
       "      <td>...</td>\n",
       "    </tr>\n",
       "    <tr>\n",
       "      <th>578937</th>\n",
       "      <td>basicbxtchthrift</td>\n",
       "      <td>So excited for a weekend away!!! #fyp #stylein...</td>\n",
       "      <td>US</td>\n",
       "      <td>3</td>\n",
       "      <td>[savannahga, fyp, savannahbananas, thrifted, s...</td>\n",
       "      <td>7273638102931983659</td>\n",
       "      <td>176</td>\n",
       "      <td>7.263322e+18</td>\n",
       "      <td>5031</td>\n",
       "      <td>NaN</td>\n",
       "      <td>10.0</td>\n",
       "      <td>2023-08-31 23:50:54</td>\n",
       "      <td>13</td>\n",
       "      <td>Lifestyle</td>\n",
       "      <td>NaN</td>\n",
       "      <td>NaN</td>\n",
       "    </tr>\n",
       "    <tr>\n",
       "      <th>578938</th>\n",
       "      <td>ynotsissy</td>\n",
       "      <td>I love the gorgeous Ashley dress! #lovewhatyou...</td>\n",
       "      <td>AU</td>\n",
       "      <td>0</td>\n",
       "      <td>[bodypositivity, fyp, lovewhatyoudo, centralco...</td>\n",
       "      <td>7264064078270713089</td>\n",
       "      <td>6</td>\n",
       "      <td>7.264064e+18</td>\n",
       "      <td>390</td>\n",
       "      <td>NaN</td>\n",
       "      <td>0.0</td>\n",
       "      <td>2023-08-06 04:38:42</td>\n",
       "      <td>7</td>\n",
       "      <td>Fashion</td>\n",
       "      <td>NaN</td>\n",
       "      <td>NaN</td>\n",
       "    </tr>\n",
       "    <tr>\n",
       "      <th>578939</th>\n",
       "      <td>javert315</td>\n",
       "      <td>Lovely resin fairy wing earrings finished! The...</td>\n",
       "      <td>US</td>\n",
       "      <td>3</td>\n",
       "      <td>[resinjewelry, uvresin, fairycore, uvresinjewe...</td>\n",
       "      <td>7273154953957428510</td>\n",
       "      <td>19</td>\n",
       "      <td>6.711176e+18</td>\n",
       "      <td>479</td>\n",
       "      <td>NaN</td>\n",
       "      <td>2.0</td>\n",
       "      <td>2023-08-30 16:36:34</td>\n",
       "      <td>10</td>\n",
       "      <td>Healthy Cooking</td>\n",
       "      <td>NaN</td>\n",
       "      <td>[7548118]</td>\n",
       "    </tr>\n",
       "    <tr>\n",
       "      <th>578940</th>\n",
       "      <td>ynotsissy</td>\n",
       "      <td>Designing the prints and dresses in small batc...</td>\n",
       "      <td>AU</td>\n",
       "      <td>0</td>\n",
       "      <td>[foryou, lovewhatyoudo, centralcoast, slowfash...</td>\n",
       "      <td>7271494707501370632</td>\n",
       "      <td>2</td>\n",
       "      <td>7.271495e+18</td>\n",
       "      <td>366</td>\n",
       "      <td>NaN</td>\n",
       "      <td>0.0</td>\n",
       "      <td>2023-08-26 05:13:19</td>\n",
       "      <td>7</td>\n",
       "      <td>Fashion</td>\n",
       "      <td>NaN</td>\n",
       "      <td>NaN</td>\n",
       "    </tr>\n",
       "    <tr>\n",
       "      <th>578941</th>\n",
       "      <td>ynotsissy</td>\n",
       "      <td>Wearing the Ellie dress today, so many things ...</td>\n",
       "      <td>AU</td>\n",
       "      <td>0</td>\n",
       "      <td>[bodypositivity, fyp, lovewhatyoudo, centralco...</td>\n",
       "      <td>7264816672060542209</td>\n",
       "      <td>3</td>\n",
       "      <td>7.264817e+18</td>\n",
       "      <td>431</td>\n",
       "      <td>NaN</td>\n",
       "      <td>0.0</td>\n",
       "      <td>2023-08-08 05:19:08</td>\n",
       "      <td>7</td>\n",
       "      <td>Fashion</td>\n",
       "      <td>NaN</td>\n",
       "      <td>NaN</td>\n",
       "    </tr>\n",
       "  </tbody>\n",
       "</table>\n",
       "<p>578942 rows × 16 columns</p>\n",
       "</div>"
      ],
      "text/plain": [
       "                        username  \\\n",
       "0           the.animal.holocaust   \n",
       "1              bakemehealthylove   \n",
       "2                    livinapril7   \n",
       "3       goodvibessocietyofficial   \n",
       "4                    settonfarms   \n",
       "...                          ...   \n",
       "578937          basicbxtchthrift   \n",
       "578938                 ynotsissy   \n",
       "578939                 javert315   \n",
       "578940                 ynotsissy   \n",
       "578941                 ynotsissy   \n",
       "\n",
       "                                        video_description region_code  \\\n",
       "0       Replying to @ov10bronco #dominicizrealmyers #v...          US   \n",
       "1       How to make: 1. Get Your Mix: Grab our Oatmeal...          US   \n",
       "2       Looking for a healthy #plantbased #protein pac...          US   \n",
       "3       Pull up to Sprouts, grab those good vibes bott...          US   \n",
       "4       At Setton Farms, we are committed to sustainab...          US   \n",
       "...                                                   ...         ...   \n",
       "578937  So excited for a weekend away!!! #fyp #stylein...          US   \n",
       "578938  I love the gorgeous Ashley dress! #lovewhatyou...          AU   \n",
       "578939  Lovely resin fairy wing earrings finished! The...          US   \n",
       "578940  Designing the prints and dresses in small batc...          AU   \n",
       "578941  Wearing the Ellie dress today, so many things ...          AU   \n",
       "\n",
       "        share_count                                      hashtag_names  \\\n",
       "0                 4  [vegan, yes, bbq, meat, carnivore, govegan, ve...   \n",
       "1                 4  [wafflemix, waffleday, plantbased, strawberryw...   \n",
       "2                 0  [food, healthy, lunch, health, salad, tasty, o...   \n",
       "3                 0  [drinks, weekendvibes, sprouts, plantbased, su...   \n",
       "4                 1  [nuts, recipe, farm, farmlife, harvest, pistac...   \n",
       "...             ...                                                ...   \n",
       "578937            3  [savannahga, fyp, savannahbananas, thrifted, s...   \n",
       "578938            0  [bodypositivity, fyp, lovewhatyoudo, centralco...   \n",
       "578939            3  [resinjewelry, uvresin, fairycore, uvresinjewe...   \n",
       "578940            0  [foryou, lovewhatyoudo, centralcoast, slowfash...   \n",
       "578941            0  [bodypositivity, fyp, lovewhatyoudo, centralco...   \n",
       "\n",
       "                         id  like_count      music_id  view_count  \\\n",
       "0       7274212644502998314          40  7.274213e+18        1054   \n",
       "1       7271102720256314666          65  7.217848e+18        1087   \n",
       "2       7272105378920353054           2  6.705026e+18         271   \n",
       "3       7271427012529524011          31  7.271427e+18         372   \n",
       "4       7273980908565433646         120  7.133309e+18        7031   \n",
       "...                     ...         ...           ...         ...   \n",
       "578937  7273638102931983659         176  7.263322e+18        5031   \n",
       "578938  7264064078270713089           6  7.264064e+18         390   \n",
       "578939  7273154953957428510          19  6.711176e+18         479   \n",
       "578940  7271494707501370632           2  7.271495e+18         366   \n",
       "578941  7264816672060542209           3  7.264817e+18         431   \n",
       "\n",
       "                                            voice_to_text  comment_count  \\\n",
       "0       You say, why torture yourself? Because all we ...          181.0   \n",
       "1       Happy National Waffle Day we're celebrating wi...            0.0   \n",
       "2                                                     NaN            0.0   \n",
       "3                                                     NaN            2.0   \n",
       "4                                                     NaN            2.0   \n",
       "...                                                   ...            ...   \n",
       "578937                                                NaN           10.0   \n",
       "578938                                                NaN            0.0   \n",
       "578939                                                NaN            2.0   \n",
       "578940                                                NaN            0.0   \n",
       "578941                                                NaN            0.0   \n",
       "\n",
       "               create_time  cluster    cluster-label  playlist_id effect_ids  \n",
       "0      2023-09-02 13:00:37       10  Healthy Cooking          NaN        NaN  \n",
       "1      2023-08-25 03:52:14       10  Healthy Cooking          NaN        NaN  \n",
       "2      2023-08-27 20:43:20       10  Healthy Cooking          NaN        NaN  \n",
       "3      2023-08-26 00:50:41       -1         Outliers          NaN        NaN  \n",
       "4      2023-09-01 22:01:08        8        Gardening          NaN        NaN  \n",
       "...                    ...      ...              ...          ...        ...  \n",
       "578937 2023-08-31 23:50:54       13        Lifestyle          NaN        NaN  \n",
       "578938 2023-08-06 04:38:42        7          Fashion          NaN        NaN  \n",
       "578939 2023-08-30 16:36:34       10  Healthy Cooking          NaN  [7548118]  \n",
       "578940 2023-08-26 05:13:19        7          Fashion          NaN        NaN  \n",
       "578941 2023-08-08 05:19:08        7          Fashion          NaN        NaN  \n",
       "\n",
       "[578942 rows x 16 columns]"
      ]
     },
     "execution_count": 9,
     "metadata": {},
     "output_type": "execute_result"
    }
   ],
   "source": [
    "videos"
   ]
  },
  {
   "cell_type": "code",
   "execution_count": 10,
   "metadata": {},
   "outputs": [],
   "source": [
    "#Remove rows where the creator makes stitch/duet with themselves\n",
    "filtered_duet_stitch = duet_stitch[duet_stitch['username'] != duet_stitch['creator']]"
   ]
  },
  {
   "cell_type": "code",
   "execution_count": 13,
   "metadata": {},
   "outputs": [
    {
     "data": {
      "text/plain": [
       "8858086"
      ]
     },
     "execution_count": 13,
     "metadata": {},
     "output_type": "execute_result"
    }
   ],
   "source": [
    "video_max_like = max(videos['like_count'])"
   ]
  },
  {
   "cell_type": "markdown",
   "metadata": {},
   "source": [
    "Creating bipartite network where: Users are connected to videos they liked.\n",
    "\n",
    "For now each edge has attributes:\n",
    "\n",
    "creator: The video's creator\n",
    "weight: A computed value based on weight_likes and weight_duets"
   ]
  },
  {
   "cell_type": "code",
   "execution_count": null,
   "metadata": {},
   "outputs": [
    {
     "ename": "NameError",
     "evalue": "name 'weight_likes' is not defined",
     "output_type": "error",
     "traceback": [
      "\u001b[0;31m---------------------------------------------------------------------------\u001b[0m",
      "\u001b[0;31mNameError\u001b[0m                                 Traceback (most recent call last)",
      "Cell \u001b[0;32mIn[15], line 4\u001b[0m\n\u001b[1;32m      1\u001b[0m G \u001b[38;5;241m=\u001b[39m nx\u001b[38;5;241m.\u001b[39mGraph()\n\u001b[1;32m      3\u001b[0m \u001b[38;5;28;01mfor\u001b[39;00m _, row \u001b[38;5;129;01min\u001b[39;00m likes\u001b[38;5;241m.\u001b[39miterrows():\n\u001b[0;32m----> 4\u001b[0m     G\u001b[38;5;241m.\u001b[39madd_edge(row[\u001b[38;5;124m'\u001b[39m\u001b[38;5;124musername\u001b[39m\u001b[38;5;124m'\u001b[39m], row[\u001b[38;5;124m'\u001b[39m\u001b[38;5;124mvideo_id\u001b[39m\u001b[38;5;124m'\u001b[39m], creator\u001b[38;5;241m=\u001b[39mrow[\u001b[38;5;124m'\u001b[39m\u001b[38;5;124mcreator\u001b[39m\u001b[38;5;124m'\u001b[39m], weight \u001b[38;5;241m=\u001b[39m (weight_likes\u001b[38;5;241m/\u001b[39mweight_likes\u001b[38;5;241m+\u001b[39mweight_duets))\n",
      "\u001b[0;31mNameError\u001b[0m: name 'weight_likes' is not defined"
     ]
    }
   ],
   "source": [
    "# G = nx.Graph()\n",
    "\n",
    "# for _, row in likes.iterrows():\n",
    "#     G.add_edge(row['username'], row['video_id'], creator=row['creator'], weight = (weight_likes/weight_likes+weight_duets))\n"
   ]
  },
  {
   "cell_type": "code",
   "execution_count": 16,
   "metadata": {},
   "outputs": [],
   "source": [
    "G.remove_edges_from(nx.selfloop_edges(G))"
   ]
  },
  {
   "cell_type": "markdown",
   "metadata": {},
   "source": [
    "If the user duet/stitched the video -> add the normalized weight"
   ]
  },
  {
   "cell_type": "code",
   "execution_count": 17,
   "metadata": {},
   "outputs": [
    {
     "data": {
      "image/png": "[encoded data removed]",
      "text/plain": [
       "<Figure size 640x480 with 1 Axes>"
      ]
     },
     "metadata": {},
     "output_type": "display_data"
    }
   ],
   "source": [
    "nx.draw(G, pos=nx.spring_layout(G))"
   ]
  },
  {
   "cell_type": "code",
   "execution_count": 52,
   "metadata": {},
   "outputs": [
    {
     "data": {
      "text/html": [
       "<div>\n",
       "<style scoped>\n",
       "    .dataframe tbody tr th:only-of-type {\n",
       "        vertical-align: middle;\n",
       "    }\n",
       "\n",
       "    .dataframe tbody tr th {\n",
       "        vertical-align: top;\n",
       "    }\n",
       "\n",
       "    .dataframe thead th {\n",
       "        text-align: right;\n",
       "    }\n",
       "</style>\n",
       "<table border=\"1\" class=\"dataframe\">\n",
       "  <thead>\n",
       "    <tr style=\"text-align: right;\">\n",
       "      <th></th>\n",
       "      <th>source</th>\n",
       "      <th>target</th>\n",
       "    </tr>\n",
       "  </thead>\n",
       "  <tbody>\n",
       "    <tr>\n",
       "      <th>0</th>\n",
       "      <td>designs_from_time</td>\n",
       "      <td>cosmicsummit</td>\n",
       "    </tr>\n",
       "    <tr>\n",
       "      <th>1</th>\n",
       "      <td>cosmicsummit</td>\n",
       "      <td>conspiracyhubog</td>\n",
       "    </tr>\n",
       "    <tr>\n",
       "      <th>2</th>\n",
       "      <td>conspiracyhubog</td>\n",
       "      <td>cosmicsummit</td>\n",
       "    </tr>\n",
       "    <tr>\n",
       "      <th>3</th>\n",
       "      <td>guildworld</td>\n",
       "      <td>venetialamanna</td>\n",
       "    </tr>\n",
       "    <tr>\n",
       "      <th>4</th>\n",
       "      <td>guildworld</td>\n",
       "      <td>i_d</td>\n",
       "    </tr>\n",
       "    <tr>\n",
       "      <th>...</th>\n",
       "      <td>...</td>\n",
       "      <td>...</td>\n",
       "    </tr>\n",
       "    <tr>\n",
       "      <th>161886</th>\n",
       "      <td>javert315</td>\n",
       "      <td>ksgarner</td>\n",
       "    </tr>\n",
       "    <tr>\n",
       "      <th>161887</th>\n",
       "      <td>javert315</td>\n",
       "      <td>bethfrombklyn</td>\n",
       "    </tr>\n",
       "    <tr>\n",
       "      <th>161888</th>\n",
       "      <td>ynotsissy</td>\n",
       "      <td>melmelbourne_</td>\n",
       "    </tr>\n",
       "    <tr>\n",
       "      <th>161889</th>\n",
       "      <td>basicbxtchthrift</td>\n",
       "      <td>brooklynkarasack</td>\n",
       "    </tr>\n",
       "    <tr>\n",
       "      <th>161890</th>\n",
       "      <td>basicbxtchthrift</td>\n",
       "      <td>kenziemariehome</td>\n",
       "    </tr>\n",
       "  </tbody>\n",
       "</table>\n",
       "<p>161891 rows × 2 columns</p>\n",
       "</div>"
      ],
      "text/plain": [
       "                   source            target\n",
       "0       designs_from_time      cosmicsummit\n",
       "1            cosmicsummit   conspiracyhubog\n",
       "2         conspiracyhubog      cosmicsummit\n",
       "3              guildworld    venetialamanna\n",
       "4              guildworld               i_d\n",
       "...                   ...               ...\n",
       "161886          javert315          ksgarner\n",
       "161887          javert315     bethfrombklyn\n",
       "161888          ynotsissy     melmelbourne_\n",
       "161889   basicbxtchthrift  brooklynkarasack\n",
       "161890   basicbxtchthrift   kenziemariehome\n",
       "\n",
       "[161891 rows x 2 columns]"
      ]
     },
     "execution_count": 52,
     "metadata": {},
     "output_type": "execute_result"
    }
   ],
   "source": [
    "# weight - nr of follows \n",
    "follows = pd.read_csv('../shared-folder-gald/data/follow-link.csv', index_col=0)\n",
    "follows"
   ]
  },
  {
   "cell_type": "code",
   "execution_count": 26,
   "metadata": {},
   "outputs": [
    {
     "data": {
      "text/html": [
       "<div>\n",
       "<style scoped>\n",
       "    .dataframe tbody tr th:only-of-type {\n",
       "        vertical-align: middle;\n",
       "    }\n",
       "\n",
       "    .dataframe tbody tr th {\n",
       "        vertical-align: top;\n",
       "    }\n",
       "\n",
       "    .dataframe thead th {\n",
       "        text-align: right;\n",
       "    }\n",
       "</style>\n",
       "<table border=\"1\" class=\"dataframe\">\n",
       "  <thead>\n",
       "    <tr style=\"text-align: right;\">\n",
       "      <th></th>\n",
       "      <th>username</th>\n",
       "      <th>video_id</th>\n",
       "      <th>creator</th>\n",
       "    </tr>\n",
       "  </thead>\n",
       "  <tbody>\n",
       "    <tr>\n",
       "      <th>0</th>\n",
       "      <td>bbcnews</td>\n",
       "      <td>7421594306210696481</td>\n",
       "      <td>taliamaizels</td>\n",
       "    </tr>\n",
       "    <tr>\n",
       "      <th>1</th>\n",
       "      <td>bbcnews</td>\n",
       "      <td>7454572661281262880</td>\n",
       "      <td>bbcnews</td>\n",
       "    </tr>\n",
       "    <tr>\n",
       "      <th>2</th>\n",
       "      <td>bbcnews</td>\n",
       "      <td>7444593083552976161</td>\n",
       "      <td>bbcnews</td>\n",
       "    </tr>\n",
       "    <tr>\n",
       "      <th>3</th>\n",
       "      <td>bbcnews</td>\n",
       "      <td>7381432178942414112</td>\n",
       "      <td>mahmood</td>\n",
       "    </tr>\n",
       "    <tr>\n",
       "      <th>4</th>\n",
       "      <td>bbcnews</td>\n",
       "      <td>7467351767571778858</td>\n",
       "      <td>msnbc</td>\n",
       "    </tr>\n",
       "    <tr>\n",
       "      <th>...</th>\n",
       "      <td>...</td>\n",
       "      <td>...</td>\n",
       "      <td>...</td>\n",
       "    </tr>\n",
       "    <tr>\n",
       "      <th>17546</th>\n",
       "      <td>maikengreimel</td>\n",
       "      <td>7467861092786638102</td>\n",
       "      <td>janes.wonda</td>\n",
       "    </tr>\n",
       "    <tr>\n",
       "      <th>17547</th>\n",
       "      <td>maikengreimel</td>\n",
       "      <td>7465696976609266966</td>\n",
       "      <td>desperatebookwives</td>\n",
       "    </tr>\n",
       "    <tr>\n",
       "      <th>17548</th>\n",
       "      <td>maikengreimel</td>\n",
       "      <td>7466856348878212374</td>\n",
       "      <td>ninagreimel</td>\n",
       "    </tr>\n",
       "    <tr>\n",
       "      <th>17549</th>\n",
       "      <td>maikengreimel</td>\n",
       "      <td>7451570066488921366</td>\n",
       "      <td>sandrasbooks</td>\n",
       "    </tr>\n",
       "    <tr>\n",
       "      <th>17550</th>\n",
       "      <td>maikengreimel</td>\n",
       "      <td>7429042977038732587</td>\n",
       "      <td>bookish.hb</td>\n",
       "    </tr>\n",
       "  </tbody>\n",
       "</table>\n",
       "<p>17551 rows × 3 columns</p>\n",
       "</div>"
      ],
      "text/plain": [
       "            username             video_id             creator\n",
       "0            bbcnews  7421594306210696481        taliamaizels\n",
       "1            bbcnews  7454572661281262880             bbcnews\n",
       "2            bbcnews  7444593083552976161             bbcnews\n",
       "3            bbcnews  7381432178942414112             mahmood\n",
       "4            bbcnews  7467351767571778858               msnbc\n",
       "...              ...                  ...                 ...\n",
       "17546  maikengreimel  7467861092786638102         janes.wonda\n",
       "17547  maikengreimel  7465696976609266966  desperatebookwives\n",
       "17548  maikengreimel  7466856348878212374         ninagreimel\n",
       "17549  maikengreimel  7451570066488921366        sandrasbooks\n",
       "17550  maikengreimel  7429042977038732587          bookish.hb\n",
       "\n",
       "[17551 rows x 3 columns]"
      ]
     },
     "execution_count": 26,
     "metadata": {},
     "output_type": "execute_result"
    }
   ],
   "source": [
    "likes"
   ]
  },
  {
   "cell_type": "code",
   "execution_count": 28,
   "metadata": {},
   "outputs": [
    {
     "data": {
      "text/plain": [
       "video_id\n",
       "7473627317412072735    6\n",
       "7473259312601746731    5\n",
       "7473363399443959086    5\n",
       "7473666243644509486    4\n",
       "7472435020305632534    4\n",
       "                      ..\n",
       "7473173573713153323    1\n",
       "7473538165886782751    1\n",
       "7473215826645028142    1\n",
       "7473544035727084831    1\n",
       "7429042977038732587    1\n",
       "Name: count, Length: 17259, dtype: int64"
      ]
     },
     "execution_count": 28,
     "metadata": {},
     "output_type": "execute_result"
    }
   ],
   "source": [
    "#like count per video\n",
    "likes_per_vid = likes['video_id'].value_counts()\n",
    "likes_per_vid"
   ]
  },
  {
   "cell_type": "code",
   "execution_count": 29,
   "metadata": {},
   "outputs": [
    {
     "name": "stdout",
     "output_type": "stream",
     "text": [
      "17259\n"
     ]
    }
   ],
   "source": [
    "#number of total videos \n",
    "unique_videos = likes['video_id'].nunique()\n",
    "print(unique_videos)"
   ]
  },
  {
   "cell_type": "code",
   "execution_count": 32,
   "metadata": {},
   "outputs": [
    {
     "data": {
      "text/plain": [
       "8858086"
      ]
     },
     "execution_count": 32,
     "metadata": {},
     "output_type": "execute_result"
    }
   ],
   "source": [
    "\n",
    "video_max_like = max(videos['like_count'])\n",
    "\n",
    "video_max_like"
   ]
  },
  {
   "cell_type": "code",
   "execution_count": 61,
   "metadata": {},
   "outputs": [
    {
     "name": "stdout",
     "output_type": "stream",
     "text": [
      "13867\n"
     ]
    }
   ],
   "source": [
    "\n",
    "users_df = pd.unique(follows.values.ravel())\n",
    "\n",
    "# Convert the result into a list\n",
    "users_list = users_df.tolist()\n",
    "\n",
    "# Display the list\n",
    "creators_count = len(users_list)\n",
    "print(creators_count)"
   ]
  },
  {
   "cell_type": "code",
   "execution_count": 59,
   "metadata": {},
   "outputs": [
    {
     "name": "stdout",
     "output_type": "stream",
     "text": [
      "                 creator  count\n",
      "0           alexisnikole    974\n",
      "1             mndiaye_97    834\n",
      "2          texasbeeworks    765\n",
      "3                billnye    713\n",
      "4                che.jim    679\n",
      "...                  ...    ...\n",
      "10168       yanglala.apu      1\n",
      "10169      the_bullshark      1\n",
      "10170         amber_rae7      1\n",
      "10171  alyssa.wanders406      1\n",
      "10172        saviocooper      1\n",
      "\n",
      "[10173 rows x 2 columns]\n"
     ]
    }
   ],
   "source": [
    "creator_followers = follows['target'].value_counts().reset_index()\n",
    "creator_followers.columns = ['creator', 'count']\n",
    "\n",
    "print(creator_followers)"
   ]
  },
  {
   "cell_type": "code",
   "execution_count": 44,
   "metadata": {},
   "outputs": [
    {
     "data": {
      "text/plain": [
       "974"
      ]
     },
     "execution_count": 44,
     "metadata": {},
     "output_type": "execute_result"
    }
   ],
   "source": [
    "#maximum followers count you can get in that community\n",
    "followers_counts = creator_followers['count'].max()\n",
    "followers_counts"
   ]
  },
  {
   "cell_type": "code",
   "execution_count": null,
   "metadata": {},
   "outputs": [
    {
     "name": "stdout",
     "output_type": "stream",
     "text": [
      "                 creator  normalized_weight\n",
      "0           alexisnikole           1.000000\n",
      "1             mndiaye_97           0.856263\n",
      "2          texasbeeworks           0.785421\n",
      "3                billnye           0.732033\n",
      "4                che.jim           0.697125\n",
      "...                  ...                ...\n",
      "10168       yanglala.apu           0.001027\n",
      "10169      the_bullshark           0.001027\n",
      "10170         amber_rae7           0.001027\n",
      "10171  alyssa.wanders406           0.001027\n",
      "10172        saviocooper           0.001027\n",
      "\n",
      "[10173 rows x 2 columns]\n"
     ]
    }
   ],
   "source": [
    "#Option 1 one normalised by maximum follow count of the most popular creator\n",
    "\n",
    "#Relative to the dataset: This method reflects how each creator compares to the most popular creator in the dataset. \n",
    "# It’s useful when you're comparing creators within the sample.\n",
    "\n",
    "creator_followers['normalized_weight'] = creator_followers['count'] / followers_counts\n",
    "\n",
    "# Create a new DataFrame with creator and their corresponding normalized weight\n",
    "normalized_df = creator_followers[['creator', 'normalized_weight']]\n",
    "\n",
    "# Display the new DataFrame\n",
    "print(normalized_df)\n"
   ]
  },
  {
   "cell_type": "code",
   "execution_count": 62,
   "metadata": {},
   "outputs": [
    {
     "name": "stdout",
     "output_type": "stream",
     "text": [
      "                 creator  normalized_weight\n",
      "0           alexisnikole           0.070239\n",
      "1             mndiaye_97           0.060143\n",
      "2          texasbeeworks           0.055167\n",
      "3                billnye           0.051417\n",
      "4                che.jim           0.048965\n",
      "...                  ...                ...\n",
      "10168       yanglala.apu           0.000072\n",
      "10169      the_bullshark           0.000072\n",
      "10170         amber_rae7           0.000072\n",
      "10171  alyssa.wanders406           0.000072\n",
      "10172        saviocooper           0.000072\n",
      "\n",
      "[10173 rows x 2 columns]\n"
     ]
    }
   ],
   "source": [
    "#Option 2: normalised followers weight based on all possible users in network \n",
    "\n",
    "creator_followers['normalized_weight'] = creator_followers['count'] / creators_count\n",
    "\n",
    "# Create a new DataFrame with creator and their corresponding normalized weight\n",
    "normalized_df = creator_followers[['creator', 'normalized_weight']]\n",
    "\n",
    "# Display the new DataFrame\n",
    "print(normalized_df)\n"
   ]
  }
 ],
 "metadata": {
  "kernelspec": {
   "display_name": "Python 3",
   "language": "python",
   "name": "python3"
  },
  "language_info": {
   "codemirror_mode": {
    "name": "ipython",
    "version": 3
   },
   "file_extension": ".py",
   "mimetype": "text/x-python",
   "name": "python",
   "nbconvert_exporter": "python",
   "pygments_lexer": "ipython3",
   "version": "3.11.7"
  }
 },
 "nbformat": 4,
 "nbformat_minor": 2
}
